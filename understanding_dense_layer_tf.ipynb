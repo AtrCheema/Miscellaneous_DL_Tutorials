{
  "nbformat": 4,
  "nbformat_minor": 0,
  "metadata": {
    "colab": {
      "name": "understanding_dense_layer.ipynb",
      "provenance": [],
      "collapsed_sections": [],
      "authorship_tag": "ABX9TyOzpuY5msSxl1n3B5cr9ahS",
      "include_colab_link": true
    },
    "kernelspec": {
      "name": "python3",
      "display_name": "Python 3"
    }
  },
  "cells": [
    {
      "cell_type": "markdown",
      "metadata": {
        "id": "view-in-github",
        "colab_type": "text"
      },
      "source": [
        "<a href=\"https://colab.research.google.com/github/AtrCheema/Miscellaneous_DL_Tutorials/blob/master/understanding_dense_layer_tf.ipynb\" target=\"_parent\"><img src=\"https://colab.research.google.com/assets/colab-badge.svg\" alt=\"Open In Colab\"/></a>"
      ]
    },
    {
      "cell_type": "markdown",
      "metadata": {
        "id": "pwM4Xru-1t3X",
        "colab_type": "text"
      },
      "source": [
        "## Intro\n",
        "This notebook describes dense layer or fully connected layer using tensorflow."
      ]
    },
    {
      "cell_type": "code",
      "metadata": {
        "id": "Rwc67_-BbuOR",
        "colab_type": "code",
        "colab": {
          "base_uri": "https://localhost:8080/",
          "height": 36
        },
        "outputId": "f7855aed-e296-4e2a-aeca-244dc9feaf93"
      },
      "source": [
        "import tensorflow as tf\n",
        "from tensorflow.keras.models import Model\n",
        "from tensorflow.keras.layers import Input, Dense\n",
        "import numpy as np\n",
        "\n",
        "def reset_seed(seed=313):\n",
        "    tf.keras.backend.clear_session()\n",
        "    tf.random.set_seed(seed)\n",
        "    np.random.seed(seed)\n",
        "\n",
        "np.set_printoptions(linewidth=100, suppress=True)\n",
        "\n",
        "tf.__version__, np.__version__"
      ],
      "execution_count": null,
      "outputs": [
        {
          "output_type": "execute_result",
          "data": {
            "text/plain": [
              "('2.3.0', '1.18.5')"
            ]
          },
          "metadata": {
            "tags": []
          },
          "execution_count": 38
        }
      ]
    },
    {
      "cell_type": "code",
      "metadata": {
        "id": "zAEJ0WwqqZhw",
        "colab_type": "code",
        "colab": {}
      },
      "source": [
        "# set some global parameters\n",
        "input_features = 2\n",
        "batch_size = 10\n",
        "dense_units = 5"
      ],
      "execution_count": null,
      "outputs": []
    },
    {
      "cell_type": "markdown",
      "metadata": {
        "id": "_11FpbpufKIh",
        "colab_type": "text"
      },
      "source": [
        "define input to model"
      ]
    },
    {
      "cell_type": "code",
      "metadata": {
        "id": "drjWZ47UfIOK",
        "colab_type": "code",
        "colab": {
          "base_uri": "https://localhost:8080/",
          "height": 204
        },
        "outputId": "2c3a61c6-8fab-4366-f332-1dddaca07054"
      },
      "source": [
        "in_np = np.random.randint(0, 100, size=(batch_size,input_features))\n",
        "in_np"
      ],
      "execution_count": null,
      "outputs": [
        {
          "output_type": "execute_result",
          "data": {
            "text/plain": [
              "array([[ 8, 42],\n",
              "       [87, 31],\n",
              "       [39, 73],\n",
              "       [25, 72],\n",
              "       [ 0, 50],\n",
              "       [82, 26],\n",
              "       [ 0, 58],\n",
              "       [69, 56],\n",
              "       [13, 73],\n",
              "       [23, 46]])"
            ]
          },
          "metadata": {
            "tags": []
          },
          "execution_count": 39
        }
      ]
    },
    {
      "cell_type": "markdown",
      "metadata": {
        "id": "ETRaSn00fQUy",
        "colab_type": "text"
      },
      "source": [
        "build a model consisting of single dense layer"
      ]
    },
    {
      "cell_type": "code",
      "metadata": {
        "id": "Id0vW5tcb0b3",
        "colab_type": "code",
        "colab": {}
      },
      "source": [
        "reset_seed()\n",
        "\n",
        "\n",
        "ins = Input(input_features, name='my_input')\n",
        "out = Dense(dense_units, use_bias=False, name='my_output')(ins)\n",
        "model = Model(inputs=ins, outputs=out)"
      ],
      "execution_count": null,
      "outputs": []
    },
    {
      "cell_type": "code",
      "metadata": {
        "id": "OZqak7x4e-bD",
        "colab_type": "code",
        "colab": {
          "base_uri": "https://localhost:8080/",
          "height": 243
        },
        "outputId": "e786a132-e391-4f8b-840b-1d7b403ced36"
      },
      "source": [
        "out_np = model.predict(in_np)\n",
        "out_np"
      ],
      "execution_count": null,
      "outputs": [
        {
          "output_type": "stream",
          "text": [
            "WARNING:tensorflow:10 out of the last 10 calls to <function Model.make_predict_function.<locals>.predict_function at 0x7f59ce6e8488> triggered tf.function retracing. Tracing is expensive and the excessive number of tracings could be due to (1) creating @tf.function repeatedly in a loop, (2) passing tensors with different shapes, (3) passing Python objects instead of tensors. For (1), please define your @tf.function outside of the loop. For (2), @tf.function has experimental_relax_shapes=True option that relaxes argument shapes that can avoid unnecessary retracing. For (3), please refer to https://www.tensorflow.org/tutorials/customization/performance#python_or_tensor_args and https://www.tensorflow.org/api_docs/python/tf/function for  more details.\n"
          ],
          "name": "stdout"
        },
        {
          "output_type": "execute_result",
          "data": {
            "text/plain": [
              "array([[-13.74732  ,   8.15492  , -10.744486 ,  25.119091 ,  -7.663808 ],\n",
              "       [ -5.950535 ,  68.49644  ,  -9.491724 , -38.411003 ,  24.45086  ],\n",
              "       [-22.595592 ,  33.50788  , -19.158081 ,  26.03558  ,  -4.0035515],\n",
              "       [-22.982853 ,  22.674595 , -18.636395 ,  35.13561  ,  -8.948013 ],\n",
              "       [-16.85867  ,   2.3709118, -12.607699 ,  36.59203  , -12.659398 ],\n",
              "       [ -4.5233936,  64.40725  ,  -8.134692 , -38.558826 ,  23.860497 ],\n",
              "       [-19.556057 ,   2.7502577, -14.624931 ,  42.446754 , -14.684901 ],\n",
              "       [-15.311285 ,  55.81435  , -15.449032 ,  -7.4740105,  11.438467 ],\n",
              "       [-23.94097  ,  13.476982 , -18.657522 ,  44.29477  , -13.656332 ],\n",
              "       [-14.319835 ,  19.90088  , -12.041887 ,  17.512308 ,  -3.107648 ]], dtype=float32)"
            ]
          },
          "metadata": {
            "tags": []
          },
          "execution_count": 41
        }
      ]
    },
    {
      "cell_type": "code",
      "metadata": {
        "id": "R37-YtFmcG_k",
        "colab_type": "code",
        "colab": {
          "base_uri": "https://localhost:8080/",
          "height": 36
        },
        "outputId": "afadf379-8a1f-4ce8-8552-0ca94be77ae2"
      },
      "source": [
        "out_np.shape"
      ],
      "execution_count": null,
      "outputs": [
        {
          "output_type": "execute_result",
          "data": {
            "text/plain": [
              "(10, 5)"
            ]
          },
          "metadata": {
            "tags": []
          },
          "execution_count": 42
        }
      ]
    },
    {
      "cell_type": "markdown",
      "metadata": {
        "id": "fSSesuwccZBW",
        "colab_type": "text"
      },
      "source": [
        "We can get all layers of model as list"
      ]
    },
    {
      "cell_type": "code",
      "metadata": {
        "id": "MtEg9XcIcNOE",
        "colab_type": "code",
        "colab": {
          "base_uri": "https://localhost:8080/",
          "height": 54
        },
        "outputId": "764a98a9-5249-4191-fa2f-51d9e6b8585f"
      },
      "source": [
        "model.layers"
      ],
      "execution_count": null,
      "outputs": [
        {
          "output_type": "execute_result",
          "data": {
            "text/plain": [
              "[<tensorflow.python.keras.engine.input_layer.InputLayer at 0x7f59ce874b00>,\n",
              " <tensorflow.python.keras.layers.core.Dense at 0x7f59ce858828>]"
            ]
          },
          "metadata": {
            "tags": []
          },
          "execution_count": 43
        }
      ]
    },
    {
      "cell_type": "markdown",
      "metadata": {
        "id": "FNFKRnnQcd90",
        "colab_type": "text"
      },
      "source": [
        "or a specific layer by its name"
      ]
    },
    {
      "cell_type": "code",
      "metadata": {
        "id": "ngToaw8BcUrs",
        "colab_type": "code",
        "colab": {}
      },
      "source": [
        "dense_layer = model.get_layer('my_output')"
      ],
      "execution_count": null,
      "outputs": []
    },
    {
      "cell_type": "markdown",
      "metadata": {
        "id": "53z7jBGTfXdJ",
        "colab_type": "text"
      },
      "source": [
        "input to dense layer must be of the shape"
      ]
    },
    {
      "cell_type": "code",
      "metadata": {
        "id": "o1InpX1pciW1",
        "colab_type": "code",
        "colab": {
          "base_uri": "https://localhost:8080/",
          "height": 36
        },
        "outputId": "f3c01d3d-5c3f-44ab-91a1-2c4d645561e3"
      },
      "source": [
        "dense_layer.input_shape"
      ],
      "execution_count": null,
      "outputs": [
        {
          "output_type": "execute_result",
          "data": {
            "text/plain": [
              "(None, 2)"
            ]
          },
          "metadata": {
            "tags": []
          },
          "execution_count": 45
        }
      ]
    },
    {
      "cell_type": "markdown",
      "metadata": {
        "id": "bze52H2vfinL",
        "colab_type": "text"
      },
      "source": [
        "output from dense layer will be of the shape"
      ]
    },
    {
      "cell_type": "code",
      "metadata": {
        "id": "MbKm7bbWcj7k",
        "colab_type": "code",
        "colab": {
          "base_uri": "https://localhost:8080/",
          "height": 36
        },
        "outputId": "38a7677d-7c53-42ac-fc9c-7c336fe66d44"
      },
      "source": [
        "dense_layer.output_shape"
      ],
      "execution_count": null,
      "outputs": [
        {
          "output_type": "execute_result",
          "data": {
            "text/plain": [
              "(None, 5)"
            ]
          },
          "metadata": {
            "tags": []
          },
          "execution_count": 46
        }
      ]
    },
    {
      "cell_type": "markdown",
      "metadata": {
        "id": "Om6Q7s52cyHN",
        "colab_type": "text"
      },
      "source": [
        "dense layer ususally has two variables i.e. weight/kernel and bias. As we did not use bias thus no bias is shown"
      ]
    },
    {
      "cell_type": "code",
      "metadata": {
        "id": "4ElySZwCdAoE",
        "colab_type": "code",
        "colab": {
          "base_uri": "https://localhost:8080/",
          "height": 73
        },
        "outputId": "485bac8a-c5f9-4d10-dee5-a3af1460fc88"
      },
      "source": [
        "dense_layer.weights"
      ],
      "execution_count": null,
      "outputs": [
        {
          "output_type": "execute_result",
          "data": {
            "text/plain": [
              "[<tf.Variable 'my_output/kernel:0' shape=(2, 5) dtype=float32, numpy=\n",
              " array([[ 0.0517453 ,  0.77041924, -0.0192523 , -0.7022766 ,  0.37126076],\n",
              "        [-0.3371734 ,  0.04741824, -0.252154  ,  0.7318406 , -0.25318795]], dtype=float32)>]"
            ]
          },
          "metadata": {
            "tags": []
          },
          "execution_count": 47
        }
      ]
    },
    {
      "cell_type": "markdown",
      "metadata": {
        "id": "_pdzw-Tlddc0",
        "colab_type": "text"
      },
      "source": [
        "The shape of the dense weights is of the form `(input_size, units)`\n",
        "\n",
        "`dense_layer.weights` returns a list, the first variable of which kernel/weights. We can convert a numpy version of weights"
      ]
    },
    {
      "cell_type": "code",
      "metadata": {
        "id": "YBcwVQ2ZcsY1",
        "colab_type": "code",
        "colab": {
          "base_uri": "https://localhost:8080/",
          "height": 36
        },
        "outputId": "87b604a0-a779-4b7d-a975-c7da35f0917b"
      },
      "source": [
        "dense_w = dense_layer.weights[0].numpy()\n",
        "dense_w.shape"
      ],
      "execution_count": null,
      "outputs": [
        {
          "output_type": "execute_result",
          "data": {
            "text/plain": [
              "(2, 5)"
            ]
          },
          "metadata": {
            "tags": []
          },
          "execution_count": 48
        }
      ]
    },
    {
      "cell_type": "code",
      "metadata": {
        "id": "1XpoMWzOdY57",
        "colab_type": "code",
        "colab": {
          "base_uri": "https://localhost:8080/",
          "height": 54
        },
        "outputId": "79b85502-7ee4-47f1-9a21-e15f0bcb8445"
      },
      "source": [
        "dense_w"
      ],
      "execution_count": null,
      "outputs": [
        {
          "output_type": "execute_result",
          "data": {
            "text/plain": [
              "array([[ 0.0517453 ,  0.77041924, -0.0192523 , -0.7022766 ,  0.37126076],\n",
              "       [-0.3371734 ,  0.04741824, -0.252154  ,  0.7318406 , -0.25318795]], dtype=float32)"
            ]
          },
          "metadata": {
            "tags": []
          },
          "execution_count": 49
        }
      ]
    },
    {
      "cell_type": "markdown",
      "metadata": {
        "id": "GsKNglg2eWGD",
        "colab_type": "text"
      },
      "source": [
        "The output from our model consisting of a single dense layer is simply the matrix multiplication between input and weight matrix as can be verified from below."
      ]
    },
    {
      "cell_type": "code",
      "metadata": {
        "id": "8D-PRCgSduwr",
        "colab_type": "code",
        "colab": {
          "base_uri": "https://localhost:8080/",
          "height": 204
        },
        "outputId": "aa78be15-9014-440b-9f60-660194af8297"
      },
      "source": [
        "np.matmul(in_np, dense_w)"
      ],
      "execution_count": null,
      "outputs": [
        {
          "output_type": "execute_result",
          "data": {
            "text/plain": [
              "array([[-13.74732053,   8.15491986, -10.74448609,  25.11909294,  -7.66380799],\n",
              "       [ -5.95053476,  68.49643922,  -9.4917239 , -38.41100419,  24.45085973],\n",
              "       [-22.59559184,  33.50788164, -19.15808117,  26.03557765,  -4.00355095],\n",
              "       [-22.98285258,  22.67459404, -18.63639498,  35.13560927,  -8.94801366],\n",
              "       [-16.85867012,   2.37091184, -12.60769963,  36.59203053, -12.65939772],\n",
              "       [ -4.52339423,  64.40725183,  -8.13469243, -38.5588243 ,  23.86049569],\n",
              "       [-19.55605733,   2.75025773, -14.62493157,  42.44675541, -14.68490136],\n",
              "       [-15.31128514,  55.81434882, -15.44903231,  -7.47401035,  11.43846714],\n",
              "       [-23.94096953,  13.4769814 , -18.65752137,  44.29476893, -13.65633076],\n",
              "       [-14.31983471,  19.90088141, -12.04188657,  17.51230657,  -3.10764837]])"
            ]
          },
          "metadata": {
            "tags": []
          },
          "execution_count": 50
        }
      ]
    },
    {
      "cell_type": "markdown",
      "metadata": {
        "id": "IfzShLYKgOwj",
        "colab_type": "text"
      },
      "source": [
        "compare above output from the model's output which was obtained earlier.\n",
        "\n",
        "## Using Bias\n",
        "\n",
        "By default the `Dense` layer in tensorflow uses bias as well. "
      ]
    },
    {
      "cell_type": "code",
      "metadata": {
        "id": "oPRZlLd6d1cj",
        "colab_type": "code",
        "colab": {}
      },
      "source": [
        "reset_seed()\n",
        "tf.keras.backend.clear_session()\n",
        "\n",
        "ins = Input(input_features, name='my_input')\n",
        "out = Dense(5, use_bias=True,  name='my_output')(ins)\n",
        "model = Model(inputs=ins, outputs=out)"
      ],
      "execution_count": null,
      "outputs": []
    },
    {
      "cell_type": "code",
      "metadata": {
        "id": "Jhs_XFnrhDYZ",
        "colab_type": "code",
        "colab": {
          "base_uri": "https://localhost:8080/",
          "height": 261
        },
        "outputId": "bab5de62-23eb-4f52-e981-2aa7bac86b66"
      },
      "source": [
        "out_np = model.predict(in_np)\n",
        "out_np.shape, out_np"
      ],
      "execution_count": null,
      "outputs": [
        {
          "output_type": "stream",
          "text": [
            "WARNING:tensorflow:11 out of the last 11 calls to <function Model.make_predict_function.<locals>.predict_function at 0x7f59ce6d5488> triggered tf.function retracing. Tracing is expensive and the excessive number of tracings could be due to (1) creating @tf.function repeatedly in a loop, (2) passing tensors with different shapes, (3) passing Python objects instead of tensors. For (1), please define your @tf.function outside of the loop. For (2), @tf.function has experimental_relax_shapes=True option that relaxes argument shapes that can avoid unnecessary retracing. For (3), please refer to https://www.tensorflow.org/tutorials/customization/performance#python_or_tensor_args and https://www.tensorflow.org/api_docs/python/tf/function for  more details.\n"
          ],
          "name": "stdout"
        },
        {
          "output_type": "execute_result",
          "data": {
            "text/plain": [
              "((10, 5),\n",
              " array([[-13.74732  ,   8.15492  , -10.744486 ,  25.119091 ,  -7.663808 ],\n",
              "        [ -5.950535 ,  68.49644  ,  -9.491724 , -38.411003 ,  24.45086  ],\n",
              "        [-22.595592 ,  33.50788  , -19.158081 ,  26.03558  ,  -4.0035515],\n",
              "        [-22.982853 ,  22.674595 , -18.636395 ,  35.13561  ,  -8.948013 ],\n",
              "        [-16.85867  ,   2.3709118, -12.607699 ,  36.59203  , -12.659398 ],\n",
              "        [ -4.5233936,  64.40725  ,  -8.134692 , -38.558826 ,  23.860497 ],\n",
              "        [-19.556057 ,   2.7502577, -14.624931 ,  42.446754 , -14.684901 ],\n",
              "        [-15.311285 ,  55.81435  , -15.449032 ,  -7.4740105,  11.438467 ],\n",
              "        [-23.94097  ,  13.476982 , -18.657522 ,  44.29477  , -13.656332 ],\n",
              "        [-14.319835 ,  19.90088  , -12.041887 ,  17.512308 ,  -3.107648 ]], dtype=float32))"
            ]
          },
          "metadata": {
            "tags": []
          },
          "execution_count": 52
        }
      ]
    },
    {
      "cell_type": "code",
      "metadata": {
        "id": "vgaQzlZlhOCp",
        "colab_type": "code",
        "colab": {
          "base_uri": "https://localhost:8080/",
          "height": 92
        },
        "outputId": "1b0dc465-0d77-418f-9c65-d405007b8077"
      },
      "source": [
        "dense_layer = model.get_layer('my_output')\n",
        "dense_layer.weights"
      ],
      "execution_count": null,
      "outputs": [
        {
          "output_type": "execute_result",
          "data": {
            "text/plain": [
              "[<tf.Variable 'my_output/kernel:0' shape=(2, 5) dtype=float32, numpy=\n",
              " array([[ 0.0517453 ,  0.77041924, -0.0192523 , -0.7022766 ,  0.37126076],\n",
              "        [-0.3371734 ,  0.04741824, -0.252154  ,  0.7318406 , -0.25318795]], dtype=float32)>,\n",
              " <tf.Variable 'my_output/bias:0' shape=(5,) dtype=float32, numpy=array([0., 0., 0., 0., 0.], dtype=float32)>]"
            ]
          },
          "metadata": {
            "tags": []
          },
          "execution_count": 53
        }
      ]
    },
    {
      "cell_type": "markdown",
      "metadata": {
        "id": "ABOGpjDDngD8",
        "colab_type": "text"
      },
      "source": [
        "The bias vector above was all zeros thus had no effect on model output as the equation for dense layer becomes\n",
        "\n",
        "$$ y = Ax + b$$\n",
        "\n",
        "We can initialize bias vector with ones and see the output"
      ]
    },
    {
      "cell_type": "code",
      "metadata": {
        "id": "EuX7ffqjhnOQ",
        "colab_type": "code",
        "colab": {}
      },
      "source": [
        "reset_seed()\n",
        "\n",
        "ins = Input(input_features, name='my_input')\n",
        "out = Dense(dense_units, use_bias=True, bias_initializer='ones', name='my_output')(ins)\n",
        "model = Model(inputs=ins, outputs=out)"
      ],
      "execution_count": null,
      "outputs": []
    },
    {
      "cell_type": "code",
      "metadata": {
        "id": "m6GKuNg2mpG_",
        "colab_type": "code",
        "colab": {
          "base_uri": "https://localhost:8080/",
          "height": 261
        },
        "outputId": "1c458c83-ceba-4f10-c996-f498b63696a8"
      },
      "source": [
        "out_np = model.predict(in_np)\n",
        "out_np.shape, out_np"
      ],
      "execution_count": null,
      "outputs": [
        {
          "output_type": "stream",
          "text": [
            "WARNING:tensorflow:11 out of the last 11 calls to <function Model.make_predict_function.<locals>.predict_function at 0x7f59d6c4cd08> triggered tf.function retracing. Tracing is expensive and the excessive number of tracings could be due to (1) creating @tf.function repeatedly in a loop, (2) passing tensors with different shapes, (3) passing Python objects instead of tensors. For (1), please define your @tf.function outside of the loop. For (2), @tf.function has experimental_relax_shapes=True option that relaxes argument shapes that can avoid unnecessary retracing. For (3), please refer to https://www.tensorflow.org/tutorials/customization/performance#python_or_tensor_args and https://www.tensorflow.org/api_docs/python/tf/function for  more details.\n"
          ],
          "name": "stdout"
        },
        {
          "output_type": "execute_result",
          "data": {
            "text/plain": [
              "((10, 5),\n",
              " array([[-12.74732  ,   9.15492  ,  -9.744486 ,  26.119091 ,  -6.663808 ],\n",
              "        [ -4.950535 ,  69.49644  ,  -8.491724 , -37.411003 ,  25.45086  ],\n",
              "        [-21.595592 ,  34.50788  , -18.158081 ,  27.03558  ,  -3.0035515],\n",
              "        [-21.982853 ,  23.674595 , -17.636395 ,  36.13561  ,  -7.9480133],\n",
              "        [-15.858669 ,   3.3709118, -11.607699 ,  37.59203  , -11.659398 ],\n",
              "        [ -3.5233936,  65.40725  ,  -7.134692 , -37.558826 ,  24.860497 ],\n",
              "        [-18.556057 ,   3.7502577, -13.624931 ,  43.446754 , -13.684901 ],\n",
              "        [-14.311285 ,  56.81435  , -14.449032 ,  -6.4740105,  12.438467 ],\n",
              "        [-22.94097  ,  14.476982 , -17.657522 ,  45.29477  , -12.656332 ],\n",
              "        [-13.319835 ,  20.90088  , -11.041887 ,  18.512308 ,  -2.107648 ]], dtype=float32))"
            ]
          },
          "metadata": {
            "tags": []
          },
          "execution_count": 55
        }
      ]
    },
    {
      "cell_type": "code",
      "metadata": {
        "id": "8kob8OjXCCRQ",
        "colab_type": "code",
        "colab": {
          "base_uri": "https://localhost:8080/",
          "height": 92
        },
        "outputId": "49e1b5db-cf37-40d8-9581-d825869a61af"
      },
      "source": [
        "dense_layer = model.get_layer('my_output')\n",
        "dense_layer.weights"
      ],
      "execution_count": null,
      "outputs": [
        {
          "output_type": "execute_result",
          "data": {
            "text/plain": [
              "[<tf.Variable 'my_output/kernel:0' shape=(2, 5) dtype=float32, numpy=\n",
              " array([[ 0.0517453 ,  0.77041924, -0.0192523 , -0.7022766 ,  0.37126076],\n",
              "        [-0.3371734 ,  0.04741824, -0.252154  ,  0.7318406 , -0.25318795]], dtype=float32)>,\n",
              " <tf.Variable 'my_output/bias:0' shape=(5,) dtype=float32, numpy=array([1., 1., 1., 1., 1.], dtype=float32)>]"
            ]
          },
          "metadata": {
            "tags": []
          },
          "execution_count": 57
        }
      ]
    },
    {
      "cell_type": "markdown",
      "metadata": {
        "id": "OOh_NQniu-VR",
        "colab_type": "text"
      },
      "source": [
        "We can verify that the model's output is obtained following the equation we wrote above."
      ]
    },
    {
      "cell_type": "code",
      "metadata": {
        "id": "huaNpqz9mt3E",
        "colab_type": "code",
        "colab": {
          "base_uri": "https://localhost:8080/",
          "height": 204
        },
        "outputId": "bfcbb6fe-fac1-4065-9eeb-9d292d160f2c"
      },
      "source": [
        "dense_layer = model.get_layer('my_output')\n",
        "dense_w = dense_layer.weights[0].numpy()\n",
        "np.matmul(in_np, dense_w) + np.ones(dense_units)"
      ],
      "execution_count": null,
      "outputs": [
        {
          "output_type": "execute_result",
          "data": {
            "text/plain": [
              "array([[-12.74732053,   9.15491986,  -9.74448609,  26.11909294,  -6.66380799],\n",
              "       [ -4.95053476,  69.49643922,  -8.4917239 , -37.41100419,  25.45085973],\n",
              "       [-21.59559184,  34.50788164, -18.15808117,  27.03557765,  -3.00355095],\n",
              "       [-21.98285258,  23.67459404, -17.63639498,  36.13560927,  -7.94801366],\n",
              "       [-15.85867012,   3.37091184, -11.60769963,  37.59203053, -11.65939772],\n",
              "       [ -3.52339423,  65.40725183,  -7.13469243, -37.5588243 ,  24.86049569],\n",
              "       [-18.55605733,   3.75025773, -13.62493157,  43.44675541, -13.68490136],\n",
              "       [-14.31128514,  56.81434882, -14.44903231,  -6.47401035,  12.43846714],\n",
              "       [-22.94096953,  14.4769814 , -17.65752137,  45.29476893, -12.65633076],\n",
              "       [-13.31983471,  20.90088141, -11.04188657,  18.51230657,  -2.10764837]])"
            ]
          },
          "metadata": {
            "tags": []
          },
          "execution_count": 58
        }
      ]
    },
    {
      "cell_type": "markdown",
      "metadata": {
        "id": "U3JwYOhhvJqA",
        "colab_type": "text"
      },
      "source": [
        "## using `activation` function\n",
        "\n",
        "We can add non-linearity to the output of dense layer by making use of `activation` keyword argument. A common `activation` function is `relu` which makes all the values below 0 as zero.\n",
        "\n",
        "In this case the equation of dense layer will become\n",
        "\n",
        "$$ y = \\alpha (Ax + b) $$\n",
        "\n",
        "Where $\\alpha$ is the non-linearity applied."
      ]
    },
    {
      "cell_type": "code",
      "metadata": {
        "id": "dzXukIn5vyhh",
        "colab_type": "code",
        "colab": {
          "base_uri": "https://localhost:8080/",
          "height": 243
        },
        "outputId": "6a725a09-0faa-41c3-a4c7-de0aaa10194b"
      },
      "source": [
        "reset_seed()\n",
        "\n",
        "ins = Input(input_features, name='my_input')\n",
        "out = Dense(dense_units, use_bias=True, bias_initializer='ones',\n",
        "            activation='relu', name='my_output')(ins)\n",
        "model = Model(inputs=ins, outputs=out)\n",
        "\n",
        "out_np = model.predict(in_np)\n",
        "out_np.shape, out_np"
      ],
      "execution_count": null,
      "outputs": [
        {
          "output_type": "stream",
          "text": [
            "WARNING:tensorflow:11 out of the last 11 calls to <function Model.make_predict_function.<locals>.predict_function at 0x7f59ce7ed510> triggered tf.function retracing. Tracing is expensive and the excessive number of tracings could be due to (1) creating @tf.function repeatedly in a loop, (2) passing tensors with different shapes, (3) passing Python objects instead of tensors. For (1), please define your @tf.function outside of the loop. For (2), @tf.function has experimental_relax_shapes=True option that relaxes argument shapes that can avoid unnecessary retracing. For (3), please refer to https://www.tensorflow.org/tutorials/customization/performance#python_or_tensor_args and https://www.tensorflow.org/api_docs/python/tf/function for  more details.\n"
          ],
          "name": "stdout"
        },
        {
          "output_type": "execute_result",
          "data": {
            "text/plain": [
              "((10, 5), array([[ 0.       ,  9.15492  ,  0.       , 26.119091 ,  0.       ],\n",
              "        [ 0.       , 69.49644  ,  0.       ,  0.       , 25.45086  ],\n",
              "        [ 0.       , 34.50788  ,  0.       , 27.03558  ,  0.       ],\n",
              "        [ 0.       , 23.674595 ,  0.       , 36.13561  ,  0.       ],\n",
              "        [ 0.       ,  3.3709118,  0.       , 37.59203  ,  0.       ],\n",
              "        [ 0.       , 65.40725  ,  0.       ,  0.       , 24.860497 ],\n",
              "        [ 0.       ,  3.7502577,  0.       , 43.446754 ,  0.       ],\n",
              "        [ 0.       , 56.81435  ,  0.       ,  0.       , 12.438467 ],\n",
              "        [ 0.       , 14.476982 ,  0.       , 45.29477  ,  0.       ],\n",
              "        [ 0.       , 20.90088  ,  0.       , 18.512308 ,  0.       ]], dtype=float32))"
            ]
          },
          "metadata": {
            "tags": []
          },
          "execution_count": 59
        }
      ]
    },
    {
      "cell_type": "markdown",
      "metadata": {
        "id": "jXv_BMMvxSRO",
        "colab_type": "text"
      },
      "source": [
        "We can again verify that the above output from dense layer follows the equation that we wrote above."
      ]
    },
    {
      "cell_type": "code",
      "metadata": {
        "id": "pl7sSdhIv7_o",
        "colab_type": "code",
        "colab": {
          "base_uri": "https://localhost:8080/",
          "height": 204
        },
        "outputId": "dbbfe252-16a3-425f-c78a-fc1b0f0f89ce"
      },
      "source": [
        "def relu(X):\n",
        "   return np.maximum(0,X)\n",
        "\n",
        "\n",
        "dense_layer = model.get_layer('my_output')\n",
        "dense_w = dense_layer.weights[0].numpy()\n",
        "relu(np.matmul(in_np, dense_w) + np.ones(dense_units))"
      ],
      "execution_count": null,
      "outputs": [
        {
          "output_type": "execute_result",
          "data": {
            "text/plain": [
              "array([[ 0.        ,  9.15491986,  0.        , 26.11909294,  0.        ],\n",
              "       [ 0.        , 69.49643922,  0.        ,  0.        , 25.45085973],\n",
              "       [ 0.        , 34.50788164,  0.        , 27.03557765,  0.        ],\n",
              "       [ 0.        , 23.67459404,  0.        , 36.13560927,  0.        ],\n",
              "       [ 0.        ,  3.37091184,  0.        , 37.59203053,  0.        ],\n",
              "       [ 0.        , 65.40725183,  0.        ,  0.        , 24.86049569],\n",
              "       [ 0.        ,  3.75025773,  0.        , 43.44675541,  0.        ],\n",
              "       [ 0.        , 56.81434882,  0.        ,  0.        , 12.43846714],\n",
              "       [ 0.        , 14.4769814 ,  0.        , 45.29476893,  0.        ],\n",
              "       [ 0.        , 20.90088141,  0.        , 18.51230657,  0.        ]])"
            ]
          },
          "metadata": {
            "tags": []
          },
          "execution_count": 60
        }
      ]
    },
    {
      "cell_type": "markdown",
      "metadata": {
        "id": "_7pBDIvRoANS",
        "colab_type": "text"
      },
      "source": [
        "## customizing weights\n",
        "\n",
        "we can set the weights and bias of dense layer to values of our choice. This is useful for example when we want to initialize the weights/bias with the values that we already have."
      ]
    },
    {
      "cell_type": "code",
      "metadata": {
        "id": "erjoRYjPnUsr",
        "colab_type": "code",
        "colab": {}
      },
      "source": [
        "custom_dense_weights = np.array([[1, 2, 3 , 4,  5],\n",
        "                                 [6, 7, 8 , 9 , 10]], dtype=np.float32)\n",
        "custom_bias = np.array([0., 0., 0., 0., 0.])\n",
        "\n",
        "reset_seed() \n",
        "\n",
        "ins = Input(input_features, name='my_input')\n",
        "\n",
        "dense_lyr = Dense(dense_units, use_bias=True, bias_initializer='ones', name='my_output')\n",
        "out = dense_lyr(ins)\n",
        "\n",
        "model = Model(inputs=ins, outputs=out)\n",
        "\n",
        "dense_lyr.set_weights([custom_dense_weights, custom_bias])"
      ],
      "execution_count": null,
      "outputs": []
    },
    {
      "cell_type": "markdown",
      "metadata": {
        "id": "fKgyYDcYuLuN",
        "colab_type": "text"
      },
      "source": [
        "The method `set_weights` must be called after initializing `Model` class. \n",
        "\n",
        "The input to `set_weights` is a list containing both weight matrix and bias vector respectively."
      ]
    },
    {
      "cell_type": "code",
      "metadata": {
        "id": "_wL3rh9lpDer",
        "colab_type": "code",
        "colab": {
          "base_uri": "https://localhost:8080/",
          "height": 243
        },
        "outputId": "9d66c52a-03b1-4ff1-eb99-841d1ef2e68d"
      },
      "source": [
        "out_np = model.predict(in_np)\n",
        "out_np.shape, out_np"
      ],
      "execution_count": null,
      "outputs": [
        {
          "output_type": "stream",
          "text": [
            "WARNING:tensorflow:11 out of the last 11 calls to <function Model.make_predict_function.<locals>.predict_function at 0x7f59ce67df28> triggered tf.function retracing. Tracing is expensive and the excessive number of tracings could be due to (1) creating @tf.function repeatedly in a loop, (2) passing tensors with different shapes, (3) passing Python objects instead of tensors. For (1), please define your @tf.function outside of the loop. For (2), @tf.function has experimental_relax_shapes=True option that relaxes argument shapes that can avoid unnecessary retracing. For (3), please refer to https://www.tensorflow.org/tutorials/customization/performance#python_or_tensor_args and https://www.tensorflow.org/api_docs/python/tf/function for  more details.\n"
          ],
          "name": "stdout"
        },
        {
          "output_type": "execute_result",
          "data": {
            "text/plain": [
              "((10, 5), array([[260., 310., 360., 410., 460.],\n",
              "        [273., 391., 509., 627., 745.],\n",
              "        [477., 589., 701., 813., 925.],\n",
              "        [457., 554., 651., 748., 845.],\n",
              "        [300., 350., 400., 450., 500.],\n",
              "        [238., 346., 454., 562., 670.],\n",
              "        [348., 406., 464., 522., 580.],\n",
              "        [405., 530., 655., 780., 905.],\n",
              "        [451., 537., 623., 709., 795.],\n",
              "        [299., 368., 437., 506., 575.]], dtype=float32))"
            ]
          },
          "metadata": {
            "tags": []
          },
          "execution_count": 62
        }
      ]
    },
    {
      "cell_type": "code",
      "metadata": {
        "id": "F4bVziR2pzwp",
        "colab_type": "code",
        "colab": {
          "base_uri": "https://localhost:8080/",
          "height": 54
        },
        "outputId": "c4f71db0-d6ba-4cd1-cac6-8c95023bee96"
      },
      "source": [
        "dense_layer = model.get_layer('my_output')\n",
        "dense_w = dense_layer.weights[0].numpy()\n",
        "dense_w"
      ],
      "execution_count": null,
      "outputs": [
        {
          "output_type": "execute_result",
          "data": {
            "text/plain": [
              "array([[ 1.,  2.,  3.,  4.,  5.],\n",
              "       [ 6.,  7.,  8.,  9., 10.]], dtype=float32)"
            ]
          },
          "metadata": {
            "tags": []
          },
          "execution_count": 63
        }
      ]
    },
    {
      "cell_type": "markdown",
      "metadata": {
        "id": "ZU1mIrKuywuD",
        "colab_type": "text"
      },
      "source": [
        "Verify that the output from dense is just matrix multiplication."
      ]
    },
    {
      "cell_type": "code",
      "metadata": {
        "id": "xGIktoMcq3YA",
        "colab_type": "code",
        "colab": {
          "base_uri": "https://localhost:8080/",
          "height": 204
        },
        "outputId": "b081925d-8858-4769-9a58-e406745e383a"
      },
      "source": [
        "np.matmul(in_np, custom_dense_weights) + np.zeros(dense_units)"
      ],
      "execution_count": null,
      "outputs": [
        {
          "output_type": "execute_result",
          "data": {
            "text/plain": [
              "array([[260., 310., 360., 410., 460.],\n",
              "       [273., 391., 509., 627., 745.],\n",
              "       [477., 589., 701., 813., 925.],\n",
              "       [457., 554., 651., 748., 845.],\n",
              "       [300., 350., 400., 450., 500.],\n",
              "       [238., 346., 454., 562., 670.],\n",
              "       [348., 406., 464., 522., 580.],\n",
              "       [405., 530., 655., 780., 905.],\n",
              "       [451., 537., 623., 709., 795.],\n",
              "       [299., 368., 437., 506., 575.]])"
            ]
          },
          "metadata": {
            "tags": []
          },
          "execution_count": 64
        }
      ]
    },
    {
      "cell_type": "markdown",
      "metadata": {
        "id": "SY4blHrBvAgE",
        "colab_type": "text"
      },
      "source": [
        "## Reducing Dimensions\n",
        "\n",
        "Dense layer can be used to reduce last dimension of incoming input.\n",
        "\n",
        "In following the size is reduced from `(10, 20, 30)` ==> `(10, 20, 1)`"
      ]
    },
    {
      "cell_type": "code",
      "metadata": {
        "id": "-YchTxbHvXh0",
        "colab_type": "code",
        "colab": {
          "base_uri": "https://localhost:8080/",
          "height": 93
        },
        "outputId": "2afd67fa-d8f9-4ba4-efb1-6cee1e0c04fe"
      },
      "source": [
        "input_shape = 20, 30\n",
        "in_np = np.random.randint(0, 100, size=(batch_size,*input_shape))\n",
        "\n",
        "reset_seed()\n",
        "\n",
        "\n",
        "ins = Input(input_shape, name='my_input')\n",
        "out = Dense(1, use_bias=False, name='my_output')(ins)\n",
        "model = Model(inputs=ins, outputs=out)\n",
        "out_np = model.predict(in_np)\n",
        "print('input shape: {}\\n output shape: {}'.format(in_np.shape, out_np.shape))"
      ],
      "execution_count": null,
      "outputs": [
        {
          "output_type": "stream",
          "text": [
            "WARNING:tensorflow:11 out of the last 11 calls to <function Model.make_predict_function.<locals>.predict_function at 0x7f59ce682ae8> triggered tf.function retracing. Tracing is expensive and the excessive number of tracings could be due to (1) creating @tf.function repeatedly in a loop, (2) passing tensors with different shapes, (3) passing Python objects instead of tensors. For (1), please define your @tf.function outside of the loop. For (2), @tf.function has experimental_relax_shapes=True option that relaxes argument shapes that can avoid unnecessary retracing. For (3), please refer to https://www.tensorflow.org/tutorials/customization/performance#python_or_tensor_args and https://www.tensorflow.org/api_docs/python/tf/function for  more details.\n",
            "input shape: (10, 20, 30)\n",
            " output shape: (10, 20, 1)\n"
          ],
          "name": "stdout"
        }
      ]
    },
    {
      "cell_type": "code",
      "metadata": {
        "id": "TDoVKgyEv1PL",
        "colab_type": "code",
        "colab": {}
      },
      "source": [
        ""
      ],
      "execution_count": null,
      "outputs": []
    }
  ]
}