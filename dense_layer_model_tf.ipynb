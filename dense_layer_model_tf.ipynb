{
  "nbformat": 4,
  "nbformat_minor": 0,
  "metadata": {
    "colab": {
      "name": "dense_layer_model_tf.ipynb",
      "provenance": [],
      "collapsed_sections": [],
      "authorship_tag": "ABX9TyP3v8ZxQaTqZIrxLjbcTkPf",
      "include_colab_link": true
    },
    "kernelspec": {
      "name": "python3",
      "display_name": "Python 3"
    },
    "accelerator": "GPU"
  },
  "cells": [
    {
      "cell_type": "markdown",
      "metadata": {
        "id": "view-in-github",
        "colab_type": "text"
      },
      "source": [
        "<a href=\"https://colab.research.google.com/github/AtrCheema/Miscellaneous_DL_Tutorials/blob/master/dense_layer_model_tf.ipynb\" target=\"_parent\"><img src=\"https://colab.research.google.com/assets/colab-badge.svg\" alt=\"Open In Colab\"/></a>"
      ]
    },
    {
      "cell_type": "code",
      "metadata": {
        "id": "vMOxocXYoTSA",
        "colab_type": "code",
        "colab": {
          "base_uri": "https://localhost:8080/",
          "height": 83
        },
        "outputId": "ffd2dbe4-283a-4d11-e88c-63dc93681f0c"
      },
      "source": [
        "from tensorflow.keras.layers import Dense, Dropout, BatchNormalization\n",
        "from tensorflow.keras.models import Sequential\n",
        "import tensorflow as tf\n",
        "\n",
        "import os\n",
        "import random\n",
        "from sklearn.metrics import mean_squared_error\n",
        "from math import sqrt\n",
        "from scipy.stats.stats import linregress\n",
        "from collections import OrderedDict\n",
        "import pandas as pd\n",
        "import matplotlib.pyplot as plt\n",
        "import numpy as np\n",
        "\n",
        "%matplotlib inline\n",
        "\n",
        "\n",
        "np.set_printoptions(suppress=True) # to suppress scientific notation while printing arrays\n",
        "\n",
        "def reset_graph(seed=2):\n",
        "    tf.reset_default_graph()\n",
        "    tf.set_random_seed(seed)\n",
        "    np.random.seed(seed)\n",
        "\n",
        "tf.test.is_gpu_available()\n"
      ],
      "execution_count": 1,
      "outputs": [
        {
          "output_type": "display_data",
          "data": {
            "text/html": [
              "<p style=\"color: red;\">\n",
              "The default version of TensorFlow in Colab will soon switch to TensorFlow 2.x.<br>\n",
              "We recommend you <a href=\"https://www.tensorflow.org/guide/migrate\" target=\"_blank\">upgrade</a> now \n",
              "or ensure your notebook will continue to use TensorFlow 1.x via the <code>%tensorflow_version 1.x</code> magic:\n",
              "<a href=\"https://colab.research.google.com/notebooks/tensorflow_version.ipynb\" target=\"_blank\">more info</a>.</p>\n"
            ],
            "text/plain": [
              "<IPython.core.display.HTML object>"
            ]
          },
          "metadata": {
            "tags": []
          }
        },
        {
          "output_type": "execute_result",
          "data": {
            "text/plain": [
              "True"
            ]
          },
          "metadata": {
            "tags": []
          },
          "execution_count": 1
        }
      ]
    },
    {
      "cell_type": "markdown",
      "metadata": {
        "id": "0pgTozGClZ4D",
        "colab_type": "text"
      },
      "source": [
        "#### Some Utils\n",
        "\n",
        "These are utitlity functions that we will need to during this exercise to calculate differnt stuff etc."
      ]
    },
    {
      "cell_type": "code",
      "metadata": {
        "id": "5AW9_7uJhtzy",
        "colab_type": "code",
        "colab": {}
      },
      "source": [
        "\n",
        "import random\n",
        "\n",
        "class FindErrors(object):\n",
        "\n",
        "    def __init__(self, actual, predicted, fil = None, epoch=None, meta_data='', chunk=None):\n",
        "        actual = actual.reshape(-1,)\n",
        "        predicted = predicted.reshape(-1,)\n",
        "\n",
        "        self.chunk = chunk or []\n",
        "        self.true = actual # observed/real value\n",
        "        self.predicted = predicted\n",
        "        self.fil = fil\n",
        "        self.epoch = epoch\n",
        "        self.meta_data = meta_data\n",
        "\n",
        "\n",
        "    def rmse(self):\n",
        "        return sqrt(mean_squared_error(self.true, self.predicted))\n",
        "\n",
        "    def mse(self):\n",
        "        return mean_squared_error(self.true, self.predicted)\n",
        "\n",
        "    def r2(self):\n",
        "        if self.true.ndim>1:\n",
        "            self.true = self.true.reshape(-1,)\n",
        "        if self.predicted.ndim>1:\n",
        "            self.predicted = self.predicted.reshape(-1,)\n",
        "        slope, intercept, r_value, p_value, std_err = linregress(self.true, self.predicted)\n",
        "        return r_value ** 2\n",
        "\n",
        "    def RSR(self):\n",
        "        return self.rmse() / np.std(self.true)\n",
        "\n",
        "    def NSE(self):\n",
        "        nse = 1 - sum((self.predicted - self.true) ** 2) / sum((self.true - np.mean(self.true)) ** 2)\n",
        "        return nse\n",
        "\n",
        "    def APB(self):\n",
        "        \"\"\" absolute percent bias\"\"\"\n",
        "        APB = 100.0 * sum(abs(self.predicted - self.true)) / sum(self.true)  # Absolute percent bias\n",
        "        return APB\n",
        "\n",
        "    def percent_bias(self):\n",
        "        PerBias = 100.0 * sum(self.predicted - self.true) / sum(self.true)  # percent bias\n",
        "        return PerBias\n",
        "\n",
        "    def nrmse(self):\n",
        "        \"\"\" Normalized Root Mean Squared Error \"\"\"\n",
        "        return self.rmse() / (self.true.max() - self.true.min())\n",
        "\n",
        "    def mae(self):\n",
        "        \"\"\" Mean Absolute Error \"\"\"\n",
        "        return np.mean(np.abs(self.true - self.predicted))\n",
        "\n",
        "\n",
        "class Utils(object):\n",
        "\n",
        "    # codes for some colors\n",
        "    colors = {'true': np.array([0.07233712, 0.470282, 0.24355425]),\n",
        "            'pred': np.array([0.81831849, 0.17526342, 0.4766505]),\n",
        "            'train_samples': np.array([0.9624212,  0.28477194, 0.4760216]),\n",
        "            'test_samples': np.array([0.51618149, 0.16053867, 0.45268923]),\n",
        "            'prediction': np.array([0.86537652, 0.18864455, 0.08620183]),\n",
        "            'training': np.array([0.92359535, 0.41150655, 0.42089012])\n",
        "        }\n",
        "\n",
        "\n",
        "    @staticmethod\n",
        "    def read_from_file(in_features=None, out_features=None, rows=None, print_lines=20):\n",
        "        \n",
        "        df = pd.read_csv('input.csv')\n",
        "\n",
        "        cols = df.columns\n",
        "\n",
        "        ins = list(np.random.choice(cols[1:-3], size=in_features))\n",
        "        outs = list(np.random.choice(cols[-2:], size=out_features))\n",
        "\n",
        "        req_cols = ins + outs\n",
        "        df1 = df[req_cols]\n",
        "\n",
        "        in_data = df1.values\n",
        "\n",
        "        print(in_data[0:print_lines])  \n",
        "        print('\\n {} \\n'.format(in_data.shape))\n",
        "        print(in_data[-print_lines:])\n",
        "\n",
        "        return in_data\n",
        "\n",
        "\n",
        "    @staticmethod\n",
        "    def generate_data(inputs, outputs, data_len, print_lines=20):\n",
        "        in_data = np.random.random((data_len, inputs))\n",
        "        y = np.full((data_len, outputs), np.nan)\n",
        "\n",
        "        funcs = [np.sum, np.prod, np.trapz]\n",
        "\n",
        "        for out in range(out_features):\n",
        "            func = np.random.choice(funcs)\n",
        "            print('doing ', func.__name__)\n",
        "            y[:,out] = func(in_data, axis=1)\n",
        "        \n",
        "        in_data = np.hstack((in_data, y))\n",
        "\n",
        "        print(in_data[0:print_lines])  \n",
        "        print('\\n {} \\n'.format(in_data.shape))\n",
        "        print(in_data[-print_lines:])\n",
        "\n",
        "        return in_data\n",
        "\n",
        "    @staticmethod\n",
        "    def print_errors(true, pred):\n",
        "\n",
        "        er = FindErrors(true, pred)\n",
        "        for err in ['r2', 'NSE', 'APB', 'percent_bias', 'RSR', 'rmse', 'mse','nrmse', 'mae']:\n",
        "            print('{:20}  {:<10.5f} '.format(err, getattr(er, err)()))\n",
        "\n",
        "    @staticmethod\n",
        "    def plot_scatter(true, pred, _name=None):\n",
        "        fig, ax = plt.subplots(1)\n",
        "        Utils.set_fig_dim(fig, 8,6)\n",
        "\n",
        "        ax.scatter(true, pred)\n",
        "        #plt.savefig(_name, dpi=300, bbox_inches='tight')\n",
        "        plt.show()\n",
        "        plt.close(fig)\n",
        "\n",
        "\n",
        "    @staticmethod\n",
        "    def random_array(_length, lower=0.0, upper=0.5):\n",
        "        \"\"\"This creates a random array of length `length` and the floats vary between `lower` and `upper`.\"\"\"\n",
        "        rand_array = np.zeros((_length))\n",
        "        for i in range(_length):\n",
        "            rand_array[i] = random.uniform(lower, upper)\n",
        "        return rand_array\n",
        "\n",
        "\n",
        "    @staticmethod\n",
        "    def plot_loss(train_loss_array, test_loss_array=None, _name=' ', log=False, _path=None):\n",
        "\n",
        "        if test_loss_array:\n",
        "            ht = 10\n",
        "            _fig, (ax1, ax2) = plt.subplots(2, sharex='all')\n",
        "        else:\n",
        "            _fig, ax1 = plt.subplots(1, sharex='all')\n",
        "            ht = 5\n",
        "\n",
        "        _fig.set_figheight(ht)\n",
        "        Utils.process_axis(ax1, train_loss_array, style='-', label='training ' + _name, leg_fs=12,\n",
        "                           y_label=_name, yl_fs=14,ms=2, log=log, x_label=\"Epochs\")\n",
        "\n",
        "        if test_loss_array:\n",
        "            Utils.process_axis(ax2, test_loss_array, label='Validation ' + _name, leg_fs=12,\n",
        "                           y_label=_name, yl_fs=14, x_label='Epochs', ms=2, log=log)\n",
        "\n",
        "        _fig.suptitle('Loss variation with training epochs', fontsize=18)\n",
        "\n",
        "        #plt.savefig(_path + \"/loss_\" + _name, dpi=300, bbox_inches='tight')\n",
        "        plt.show()\n",
        "\n",
        "\n",
        "    @staticmethod\n",
        "    def process_axis(axis,\n",
        "                    data,\n",
        "                    style= '.',\n",
        "                    x_label = \"Time\",\n",
        "                    xl_fs = 14,     # x label font size\n",
        "                    y_label=\" \",\n",
        "                    yl_fs = 14,                        # ylabel font size\n",
        "                    leg_pos=\"center left\",\n",
        "                    label = \" \",   # legend\n",
        "                    ms = 5,        # markersize\n",
        "                    leg_fs=16,\n",
        "                    leg_ms = 4,     # legend scale\n",
        "                    xtp_ls = 12, # x tick_params labelsize\n",
        "                    ytp_ls = 12, # x tick_params labelsize\n",
        "                    log= False,\n",
        "                    show_xaxis=True,\n",
        "                    top_spine = True,\n",
        "                    bottom_spine=True,\n",
        "                    invert_yaxis=False):\n",
        "\n",
        "        if label in Utils.colors:\n",
        "            c = colors[label]\n",
        "        else:\n",
        "            c = Utils.random_array(3, 0.01, 0.99)\n",
        "            print('for ', label, c)\n",
        "        \n",
        "        axis.plot(data, style, markersize=ms, color=c, label=label)\n",
        "            \n",
        "        axis.legend(loc=leg_pos, fontsize=leg_fs, markerscale=leg_ms)\n",
        "        axis.set_ylabel(y_label, fontsize=yl_fs, color=c)\n",
        "\n",
        "        if log:\n",
        "            axis.set_yscale('log')\n",
        "\n",
        "        if invert_yaxis:\n",
        "            axis.set_ylim(axis.get_ylim()[::-1])\n",
        "\n",
        "        axis.tick_params(axis=\"x\", which='major', labelsize=xtp_ls, colors=c)\n",
        "        axis.tick_params(axis=\"y\", which='major', labelsize=ytp_ls, colors='k')\n",
        "        axis.get_xaxis().set_visible(show_xaxis)\n",
        "\n",
        "        if show_xaxis:\n",
        "            axis.set_xlabel(x_label, fontsize=xl_fs, color='k')\n",
        "\n",
        "        axis.spines['top'].set_visible(top_spine)\n",
        "        axis.spines['bottom'].set_visible(bottom_spine)\n",
        "\n",
        "\n",
        "    @staticmethod\n",
        "    def set_fig_dim(fig, width, height):\n",
        "        fig.set_figwidth(width)\n",
        "        fig.set_figheight(height)\n",
        "        return\n",
        "\n",
        "\n",
        "utils = Utils()"
      ],
      "execution_count": 0,
      "outputs": []
    },
    {
      "cell_type": "markdown",
      "metadata": {
        "id": "9P1ovCRq4V2o",
        "colab_type": "text"
      },
      "source": [
        "## Model\n",
        "\n",
        "Following class facilitates to build neural model"
      ]
    },
    {
      "cell_type": "code",
      "metadata": {
        "id": "iZ0wbwco4ZV5",
        "colab_type": "code",
        "colab": {}
      },
      "source": [
        "\n",
        "from sklearn.preprocessing import MinMaxScaler\n",
        "\n",
        "class Model(object):\n",
        "\n",
        "    def __init__(self, nn_conf, data):\n",
        "        self.scalers = None\n",
        "        self.nn_conf = nn_conf\n",
        "        self.data_n = self.normalization(data)    \n",
        "\n",
        "    def normalization(self, data):\n",
        "        if self.nn_conf['normalization']:  # normalizing data\n",
        "            # container for normalized input data\n",
        "            dataset_n = np.full(data.shape, np.nan)\n",
        "            self.scalers = OrderedDict()\n",
        "\n",
        "            for dat in range(data.shape[1]):\n",
        "                value = data[:,dat]\n",
        "                val_scaler = MinMaxScaler(feature_range=(0, 1))\n",
        "                val_norm = val_scaler.fit_transform(value.reshape(-1,1))\n",
        "                dataset_n[:,dat] = val_norm.reshape(-1,)\n",
        "                self.scalers[str(dat) + '_scaler'] = val_scaler\n",
        "\n",
        "            return dataset_n\n",
        "        else:\n",
        "            return data\n",
        "\n",
        "\n",
        "    def batch_generator(self, data, args, verbose=True):\n",
        "        ins = args['in_features']\n",
        "        outs = args['out_features']\n",
        "        min_idx = args['min_ind']\n",
        "        max_idx = args['max_ind']\n",
        "        bat_size = args['batch_size']\n",
        "\n",
        "        X = data[min_idx:max_idx, 0:ins]\n",
        "        Y = data[min_idx:max_idx, -outs:]\n",
        "\n",
        "        residue = X.shape[0] % bat_size\n",
        "\n",
        "        no_of_batches = int(X.shape[0] // bat_size)\n",
        "        if verbose:\n",
        "            print('no of batches: ', no_of_batches)\n",
        "\n",
        "        if min_idx == 0:\n",
        "            self.train_batches = no_of_batches\n",
        "        else:\n",
        "            self.test_batches = no_of_batches\n",
        "\n",
        "        gen_i = 1\n",
        "        while 1:\n",
        "            gen_i +=1\n",
        "\n",
        "            st = 0\n",
        "            en = bat_size\n",
        "            for bat in range(no_of_batches):\n",
        "\n",
        "                x = X[st:en,:]\n",
        "                y = Y[st:en,:]\n",
        "\n",
        "                st += bat_size\n",
        "                en += bat_size\n",
        "\n",
        "                yield x,y \n",
        "    \n",
        "    def build_nn(self):\n",
        "        \n",
        "        in_feat = self.nn_conf['in_features']\n",
        "        lr = self.nn_conf['lr']\n",
        "        loss = self.nn_conf['loss']\n",
        "        lyrs_conf = self.nn_conf['layers_conf']\n",
        "\n",
        "\n",
        "        reset_graph()\n",
        "        k_model = Sequential()\n",
        "\n",
        "        layer = 0\n",
        "        for l,lp in lyrs_conf.items():\n",
        "            \n",
        "            if layer == 0:\n",
        "                k_model.add(lp['lyr']( units = lp['units'], activation=lp['acts'], input_shape=(in_feat,)))\n",
        "                self.add_misc_lyrs(k_model, lp['dropout'], lp['BatchNorm'])\n",
        "\n",
        "            else:\n",
        "                k_model.add(lp['lyr']( units = lp['units'], activation=lp['acts']))\n",
        "                self.add_misc_lyrs(k_model, lp['dropout'], lp['BatchNorm'])\n",
        "\n",
        "            layer += 1\n",
        "\n",
        "        optimizer=tf.keras.optimizers.Adam(\n",
        "            learning_rate=lr, beta_1=0.9, beta_2=0.999, epsilon=1e-07, amsgrad=False,\n",
        "            name='Adam'\n",
        "        )\n",
        "\n",
        "\n",
        "        k_model.compile(loss=nn_conf['loss'],\n",
        "                    optimizer=optimizer)\n",
        "        \n",
        "        self.k_model = k_model\n",
        "\n",
        "        return k_model\n",
        "    \n",
        "    @staticmethod\n",
        "    def add_misc_lyrs(k_model, dropout=None, BatchNorm=False):\n",
        "        if dropout:\n",
        "            k_model.add(Dropout(dropout))\n",
        "        if BatchNorm:\n",
        "            k_model.add(BatchNormalization())\n",
        "        return\n",
        "\n",
        "    \n",
        "    def train_nn(self, train_args):\n",
        "    \n",
        "        train_gen = self.batch_generator(self.data_n, train_args)\n",
        "        next(train_gen)\n",
        "        train_gen = self.batch_generator(self.data_n, train_args, verbose=False)\n",
        "\n",
        "        epochs = self.nn_conf['training_epochs']\n",
        "\n",
        "        history = self.k_model.fit_generator(train_gen,\n",
        "                                    steps_per_epoch=self.train_batches,\n",
        "                                    epochs=epochs)\n",
        "        return history\n",
        "\n",
        "\n",
        "    def test_nn(self, args, mode='test'):\n",
        "\n",
        "        out_feat = self.nn_conf['out_features']\n",
        "\n",
        "        gen = self.batch_generator(self.data_n, args)\n",
        "        next(gen)\n",
        "        gen = self.batch_generator(self.data_n, args, verbose=False)\n",
        "\n",
        "        # get number of batches\n",
        "        batches = self.test_batches if mode=='test' else self.train_batches\n",
        "\n",
        "        true = np.full((int(batches*nn_conf['batch_size']), out_feat), np.nan)\n",
        "\n",
        "        st = 0\n",
        "        en = nn_conf['batch_size']\n",
        "        for i in range(batches):\n",
        "            _, true[st:en,:] = next(gen) \n",
        "            st += nn_conf['batch_size']\n",
        "            en += nn_conf['batch_size']\n",
        "\n",
        "        gen = self.batch_generator(self.data_n, args, verbose=False)\n",
        "        predictions = self.k_model.predict_generator(gen,\n",
        "                                                   steps=batches)  \n",
        "        \n",
        "        if self.nn_conf['normalization']:\n",
        "            true, predictions = self.denormalize_y(true, predictions)\n",
        "        \n",
        "         \n",
        "        return true, predictions\n",
        "    \n",
        "\n",
        "    def denormalize_y(self, true, pred):\n",
        "        out_feat = self.nn_conf['out_features']\n",
        "\n",
        "        st_idx = len(self.scalers) - out_features\n",
        "        for i in range(out_features):\n",
        "\n",
        "            idx = st_idx + i\n",
        "            scaler_name = str(list(self.scalers.keys())[idx])\n",
        "            print(scaler_name, 'scaler name')\n",
        "            \n",
        "            y_scaler = self.scalers[scaler_name]  \n",
        "            true[:,i] = y_scaler.inverse_transform(true[:,i].reshape(-1, 1)).reshape(-1,)\n",
        "            pred[:,i] = y_scaler.inverse_transform(pred[:,i].reshape(-1, 1)).reshape(-1,)\n",
        "        \n",
        "        return true, pred\n",
        "\n",
        "\n"
      ],
      "execution_count": 0,
      "outputs": []
    },
    {
      "cell_type": "markdown",
      "metadata": {
        "id": "fVEA2Ftqxm1I",
        "colab_type": "text"
      },
      "source": [
        "## Getting Data"
      ]
    },
    {
      "cell_type": "code",
      "metadata": {
        "id": "tz8dHk_Pob-g",
        "colab_type": "code",
        "colab": {
          "base_uri": "https://localhost:8080/",
          "height": 663
        },
        "outputId": "4aa9a247-2c40-49d6-b4be-63fcd5fce95d"
      },
      "source": [
        "rows = 1000\n",
        "in_features = 4\n",
        "out_features = 2\n",
        "\n",
        "# if 'input.csv' in os.listdir(os.getcwd()):\n",
        "#     data = utils.read_from_file(in_features, out_features, rows, print_lines=3)\n",
        "# else:\n",
        "#     data = utils.generate_data(in_features, out_features, rows)\n",
        "\n",
        "data = utils.generate_data(in_features, out_features, rows, 15)\n"
      ],
      "execution_count": 60,
      "outputs": [
        {
          "output_type": "stream",
          "text": [
            "doing  sum\n",
            "doing  trapz\n",
            "[[0.31514699 0.13144811 0.686338   0.99622171 2.12915481 1.47347047]\n",
            " [0.96072615 0.00450977 0.36787285 0.37653266 1.70964142 1.04101202]\n",
            " [0.23118034 0.66269174 0.14468565 0.46149771 1.50005544 1.15371641]\n",
            " [0.32270638 0.21974394 0.08375882 0.38698797 1.01319711 0.65834993]\n",
            " [0.54536434 0.18311795 0.74081957 0.07389808 1.54319994 1.23356873]\n",
            " [0.41910408 0.56062468 0.86448095 0.7866353  2.63084501 2.02797532]\n",
            " [0.39901108 0.77564464 0.70568237 0.09989261 1.9802307  1.73077886]\n",
            " [0.83241207 0.08202438 0.57733526 0.43173162 1.92350334 1.29143149]\n",
            " [0.85133903 0.11310193 0.08738812 0.81374354 1.86557262 1.03303133]\n",
            " [0.48060877 0.66608967 0.78965305 0.46544195 2.40179343 1.92876807]\n",
            " [0.62491512 0.79035601 0.84854539 0.73738716 3.00120368 2.32005254]\n",
            " [0.34879346 0.73084908 0.86595277 0.49994567 2.44554098 2.02117141]\n",
            " [0.60056364 0.32100179 0.37313865 0.75179215 2.04649623 1.37031833]\n",
            " [0.68289551 0.48503134 0.40448759 0.70353867 2.27595311 1.58273602]\n",
            " [0.21352036 0.11950659 0.13386904 0.83047391 1.2973699  0.77537276]]\n",
            "\n",
            " (1000, 6) \n",
            "\n",
            "[[0.69704267 0.53514087 0.46421841 0.28742723 1.98382917 1.49159422]\n",
            " [0.3758487  0.20113192 0.44750132 0.01784959 1.04233153 0.84548238]\n",
            " [0.40406493 0.20437031 0.88877706 0.913164   2.41037631 1.75176184]\n",
            " [0.28712819 0.40843219 0.38448916 0.11743356 1.1974831  0.99520222]\n",
            " [0.76015713 0.35493262 0.27047748 0.41009862 1.79566585 1.21053797]\n",
            " [0.97177422 0.84358694 0.73197999 0.09414462 2.64148577 2.10852635]\n",
            " [0.61305694 0.27181296 0.07826265 0.15526413 1.11839668 0.73423615]\n",
            " [0.17059542 0.99918368 0.20584117 0.89768474 2.27330501 1.73916493]\n",
            " [0.88822364 0.34574876 0.07946688 0.41465255 1.72809183 1.07665374]\n",
            " [0.87645598 0.69733736 0.742275   0.87065305 3.18672139 2.31316688]\n",
            " [0.88827201 0.11559175 0.49940168 0.22263471 1.72590014 1.17044679]\n",
            " [0.51768305 0.14009255 0.4816284  0.20223486 1.34163887 0.98167991]\n",
            " [0.06473417 0.96580519 0.84307103 0.82592236 2.69953275 2.25420449]\n",
            " [0.76465474 0.53471539 0.82928905 0.77640636 2.90506554 2.13453499]\n",
            " [0.52617185 0.17768851 0.13345324 0.81266802 1.64998162 0.98056168]]\n"
          ],
          "name": "stdout"
        }
      ]
    },
    {
      "cell_type": "markdown",
      "metadata": {
        "id": "BCH504B77aKM",
        "colab_type": "text"
      },
      "source": [
        "### Building Model\n",
        "\n"
      ]
    },
    {
      "cell_type": "code",
      "metadata": {
        "id": "CGZDXeY3J3aS",
        "colab_type": "code",
        "colab": {}
      },
      "source": [
        "\"\"\"\n",
        "*****************************************************************************\n",
        "             Change values in this cell and see model performacne\n",
        "*****************************************************************************\n",
        "\"\"\"\n",
        "\n",
        "nn_conf = {\n",
        "    'batch_size': 4,\n",
        "    'lr': 0.00001,  # learning rate\n",
        "    'loss': 'mse', # mae,  \n",
        "    'training_epochs': 50,\n",
        "    'normalization': True  # False/ True\n",
        "}\n",
        "\n",
        "lyrs = OrderedDict()\n",
        "# you can add or remove layers with the exception that last layer must have units = out_features\n",
        "# acts: activations, can be None or 'relu', 'tanh', 'sigmoid', 'elu'\n",
        "# dropout can be any fractional value or None\n",
        "#BatchNorm can be True or False\n",
        "\n",
        "lyrs[0] = {'lyr': Dense, 'units': 64, 'acts': None, 'dropout': 0.2, 'BatchNorm': False}\n",
        "lyrs[1] = {'lyr': Dense, 'units': 32, 'acts': None, 'dropout': 0.2, 'BatchNorm': False}\n",
        "#lyrs[2] ={'lyr': Dense, 'units': 16, 'acts': None, 'dropout': 0.2, 'BatchNorm': False}\n",
        "lyrs[3] = {'lyr': Dense, 'units': out_features, 'acts': None, 'dropout': None, 'BatchNorm': False}\n",
        "\n",
        "\n",
        "# percentage of data to be considered as training data\n",
        "# remaining data will be considered as test data\n",
        "training_percent = 0.7  \n"
      ],
      "execution_count": 0,
      "outputs": []
    },
    {
      "cell_type": "code",
      "metadata": {
        "id": "pu3I-kRGqi5k",
        "colab_type": "code",
        "colab": {
          "base_uri": "https://localhost:8080/",
          "height": 349
        },
        "outputId": "eda19ac2-93c8-4406-b175-bdac059e18e0"
      },
      "source": [
        "st_ind = 0  # must be 0\n",
        "end_ind = int(data.shape[0] * training_percent)\n",
        "\n",
        "train_args = {\n",
        "    'batch_size': nn_conf['batch_size'],\n",
        "    'min_ind': st_ind,\n",
        "    'max_ind': end_ind,\n",
        "    'in_features': in_features,\n",
        "    'out_features': out_features\n",
        "}\n",
        "\n",
        "test_args = train_args.copy()\n",
        "test_args['min_ind'] = end_ind\n",
        "test_args['max_ind'] = data.shape[0]\n",
        "\n",
        "\n",
        "nn_conf['layers_conf'] = lyrs\n",
        "nn_conf['in_features'] = in_features\n",
        "nn_conf['out_features'] = out_features\n",
        "\n",
        "\n",
        "\n",
        "model = Model(nn_conf, data=data)\n",
        "\n",
        "keras_model = model.build_nn()\n",
        "\n",
        "keras_model.summary()"
      ],
      "execution_count": 89,
      "outputs": [
        {
          "output_type": "stream",
          "text": [
            "Model: \"sequential\"\n",
            "_________________________________________________________________\n",
            "Layer (type)                 Output Shape              Param #   \n",
            "=================================================================\n",
            "dense (Dense)                (None, 64)                320       \n",
            "_________________________________________________________________\n",
            "dropout (Dropout)            (None, 64)                0         \n",
            "_________________________________________________________________\n",
            "dense_1 (Dense)              (None, 32)                2080      \n",
            "_________________________________________________________________\n",
            "dropout_1 (Dropout)          (None, 32)                0         \n",
            "_________________________________________________________________\n",
            "dense_2 (Dense)              (None, 2)                 66        \n",
            "=================================================================\n",
            "Total params: 2,466\n",
            "Trainable params: 2,466\n",
            "Non-trainable params: 0\n",
            "_________________________________________________________________\n"
          ],
          "name": "stdout"
        }
      ]
    },
    {
      "cell_type": "code",
      "metadata": {
        "id": "gnf0j1xodwg2",
        "colab_type": "code",
        "colab": {}
      },
      "source": [
        "# train_gen = model.batch_generator(data, train_args)\n",
        "# test_gen = model.batch_generator(data, test_args)"
      ],
      "execution_count": 0,
      "outputs": []
    },
    {
      "cell_type": "code",
      "metadata": {
        "id": "3HIgDPZlUSXo",
        "colab_type": "code",
        "colab": {}
      },
      "source": [
        "# x,y = next(train_gen)\n",
        "# print(x.shape, y.shape)\n",
        "# print(x,'\\n', y)"
      ],
      "execution_count": 0,
      "outputs": []
    },
    {
      "cell_type": "code",
      "metadata": {
        "id": "Upi6k94dWXxH",
        "colab_type": "code",
        "colab": {}
      },
      "source": [
        "# x,y = next(test_gen)\n",
        "# print(x.shape, y.shape)\n",
        "# print(x,'\\n', y)\n",
        "# model.scalers"
      ],
      "execution_count": 0,
      "outputs": []
    },
    {
      "cell_type": "markdown",
      "metadata": {
        "id": "Bnq9TAGH6_6R",
        "colab_type": "text"
      },
      "source": [
        "### Train the model"
      ]
    },
    {
      "cell_type": "code",
      "metadata": {
        "id": "TCFLCvk2sAwQ",
        "colab_type": "code",
        "colab": {
          "base_uri": "https://localhost:8080/",
          "height": 1000
        },
        "outputId": "c7a5bcf8-e3ba-482c-a849-498910d9abda"
      },
      "source": [
        "history = model.train_nn( train_args)"
      ],
      "execution_count": 93,
      "outputs": [
        {
          "output_type": "stream",
          "text": [
            "no of batches:  10\n",
            "Epoch 1/50\n",
            "10/10 [==============================] - 0s 33ms/step - loss: 0.2046\n",
            "Epoch 2/50\n",
            "10/10 [==============================] - 0s 3ms/step - loss: 0.0655\n",
            "Epoch 3/50\n",
            "10/10 [==============================] - 0s 3ms/step - loss: 0.0550\n",
            "Epoch 4/50\n",
            "10/10 [==============================] - 0s 3ms/step - loss: 0.0426\n",
            "Epoch 5/50\n",
            "10/10 [==============================] - 0s 3ms/step - loss: 0.0389\n",
            "Epoch 6/50\n",
            "10/10 [==============================] - 0s 3ms/step - loss: 0.0338\n",
            "Epoch 7/50\n",
            "10/10 [==============================] - 0s 3ms/step - loss: 0.0295\n",
            "Epoch 8/50\n",
            "10/10 [==============================] - 0s 3ms/step - loss: 0.0259\n",
            "Epoch 9/50\n",
            "10/10 [==============================] - 0s 3ms/step - loss: 0.0244\n",
            "Epoch 10/50\n",
            "10/10 [==============================] - 0s 3ms/step - loss: 0.0250\n",
            "Epoch 11/50\n",
            "10/10 [==============================] - 0s 3ms/step - loss: 0.0236\n",
            "Epoch 12/50\n",
            "10/10 [==============================] - 0s 3ms/step - loss: 0.0210\n",
            "Epoch 13/50\n",
            "10/10 [==============================] - 0s 3ms/step - loss: 0.0185\n",
            "Epoch 14/50\n",
            "10/10 [==============================] - 0s 3ms/step - loss: 0.0184\n",
            "Epoch 15/50\n",
            "10/10 [==============================] - 0s 3ms/step - loss: 0.0173\n",
            "Epoch 16/50\n",
            "10/10 [==============================] - 0s 4ms/step - loss: 0.0180\n",
            "Epoch 17/50\n",
            "10/10 [==============================] - 0s 3ms/step - loss: 0.0164\n",
            "Epoch 18/50\n",
            "10/10 [==============================] - 0s 4ms/step - loss: 0.0158\n",
            "Epoch 19/50\n",
            "10/10 [==============================] - 0s 3ms/step - loss: 0.0154\n",
            "Epoch 20/50\n",
            "10/10 [==============================] - 0s 3ms/step - loss: 0.0138\n",
            "Epoch 21/50\n",
            "10/10 [==============================] - 0s 3ms/step - loss: 0.0136\n",
            "Epoch 22/50\n",
            "10/10 [==============================] - 0s 3ms/step - loss: 0.0143\n",
            "Epoch 23/50\n",
            "10/10 [==============================] - 0s 3ms/step - loss: 0.0124\n",
            "Epoch 24/50\n",
            "10/10 [==============================] - 0s 3ms/step - loss: 0.0131\n",
            "Epoch 25/50\n",
            "10/10 [==============================] - 0s 3ms/step - loss: 0.0128\n",
            "Epoch 26/50\n",
            "10/10 [==============================] - 0s 3ms/step - loss: 0.0113\n",
            "Epoch 27/50\n",
            "10/10 [==============================] - 0s 3ms/step - loss: 0.0119\n",
            "Epoch 28/50\n",
            "10/10 [==============================] - 0s 3ms/step - loss: 0.0116\n",
            "Epoch 29/50\n",
            "10/10 [==============================] - 0s 3ms/step - loss: 0.0108\n",
            "Epoch 30/50\n",
            "10/10 [==============================] - 0s 3ms/step - loss: 0.0108\n",
            "Epoch 31/50\n",
            "10/10 [==============================] - 0s 3ms/step - loss: 0.0110\n",
            "Epoch 32/50\n",
            "10/10 [==============================] - 0s 3ms/step - loss: 0.0099\n",
            "Epoch 33/50\n",
            "10/10 [==============================] - 0s 3ms/step - loss: 0.0107\n",
            "Epoch 34/50\n",
            "10/10 [==============================] - 0s 3ms/step - loss: 0.0104\n",
            "Epoch 35/50\n",
            "10/10 [==============================] - 0s 3ms/step - loss: 0.0089\n",
            "Epoch 36/50\n",
            "10/10 [==============================] - 0s 3ms/step - loss: 0.0093\n",
            "Epoch 37/50\n",
            "10/10 [==============================] - 0s 3ms/step - loss: 0.0091\n",
            "Epoch 38/50\n",
            "10/10 [==============================] - 0s 3ms/step - loss: 0.0089\n",
            "Epoch 39/50\n",
            "10/10 [==============================] - 0s 3ms/step - loss: 0.0086\n",
            "Epoch 40/50\n",
            "10/10 [==============================] - 0s 3ms/step - loss: 0.0086\n",
            "Epoch 41/50\n",
            "10/10 [==============================] - 0s 3ms/step - loss: 0.0081\n",
            "Epoch 42/50\n",
            "10/10 [==============================] - 0s 3ms/step - loss: 0.0080\n",
            "Epoch 43/50\n",
            "10/10 [==============================] - 0s 3ms/step - loss: 0.0085\n",
            "Epoch 44/50\n",
            "10/10 [==============================] - 0s 3ms/step - loss: 0.0081\n",
            "Epoch 45/50\n",
            "10/10 [==============================] - 0s 3ms/step - loss: 0.0080\n",
            "Epoch 46/50\n",
            "10/10 [==============================] - 0s 3ms/step - loss: 0.0073\n",
            "Epoch 47/50\n",
            "10/10 [==============================] - 0s 3ms/step - loss: 0.0082\n",
            "Epoch 48/50\n",
            "10/10 [==============================] - 0s 4ms/step - loss: 0.0081\n",
            "Epoch 49/50\n",
            "10/10 [==============================] - 0s 4ms/step - loss: 0.0077\n",
            "Epoch 50/50\n",
            "10/10 [==============================] - 0s 4ms/step - loss: 0.0072\n"
          ],
          "name": "stdout"
        }
      ]
    },
    {
      "cell_type": "code",
      "metadata": {
        "id": "TW28mLU3ItZG",
        "colab_type": "code",
        "colab": {
          "base_uri": "https://localhost:8080/",
          "height": 395
        },
        "outputId": "ab5c6d04-1d5a-4b33-8db5-6ba5ef82e3e0"
      },
      "source": [
        "utils.plot_loss(history.history['loss'])"
      ],
      "execution_count": 94,
      "outputs": [
        {
          "output_type": "stream",
          "text": [
            "for  training   [0.71267536 0.87658585 0.42038226]\n"
          ],
          "name": "stdout"
        },
        {
          "output_type": "display_data",
          "data": {
            "image/png": "[encoded data removed]",
            "text/plain": [
              "<Figure size 432x360 with 1 Axes>"
            ]
          },
          "metadata": {
            "tags": []
          }
        }
      ]
    },
    {
      "cell_type": "markdown",
      "metadata": {
        "id": "Us__EdJK7FRZ",
        "colab_type": "text"
      },
      "source": [
        "### Make predictions\n",
        "\n",
        "We evaluate our model on test data"
      ]
    },
    {
      "cell_type": "code",
      "metadata": {
        "id": "gPSISNAGawXx",
        "colab_type": "code",
        "colab": {
          "base_uri": "https://localhost:8080/",
          "height": 72
        },
        "outputId": "84a0f0b3-3ffe-4735-a509-f876427ff4c2"
      },
      "source": [
        "test_true, test_predictions = model.test_nn(test_args)"
      ],
      "execution_count": 68,
      "outputs": [
        {
          "output_type": "stream",
          "text": [
            "no of batches:  75\n",
            "4_scaler scaler name\n",
            "5_scaler scaler name\n"
          ],
          "name": "stdout"
        }
      ]
    },
    {
      "cell_type": "code",
      "metadata": {
        "id": "NzCRJhAqfwaL",
        "colab_type": "code",
        "colab": {
          "base_uri": "https://localhost:8080/",
          "height": 731
        },
        "outputId": "b9e2d307-fc5d-470f-e02c-8aa996a122cb"
      },
      "source": [
        "for i in range(out_features):\n",
        "    utils.plot_scatter(test_true[:,i], test_predictions[:,i])"
      ],
      "execution_count": 69,
      "outputs": [
        {
          "output_type": "display_data",
          "data": {
            "image/png": "[encoded data removed]",
            "text/plain": [
              "<Figure size 576x432 with 1 Axes>"
            ]
          },
          "metadata": {
            "tags": []
          }
        },
        {
          "output_type": "display_data",
          "data": {
            "image/png": "[encoded data removed]",
            "text/plain": [
              "<Figure size 576x432 with 1 Axes>"
            ]
          },
          "metadata": {
            "tags": []
          }
        }
      ]
    },
    {
      "cell_type": "code",
      "metadata": {
        "id": "j_jyEynIixW8",
        "colab_type": "code",
        "colab": {
          "base_uri": "https://localhost:8080/",
          "height": 460
        },
        "outputId": "4a6b2161-8f32-4038-e119-5db75cbcdfe5"
      },
      "source": [
        "for i in range(out_features):\n",
        "    utils.print_errors(test_true[:,i], test_predictions[:,i])\n",
        "    print('\\n\\n')\n"
      ],
      "execution_count": 70,
      "outputs": [
        {
          "output_type": "stream",
          "text": [
            "r2                    0.99970    \n",
            "NSE                   0.94443    \n",
            "APB                   5.44698    \n",
            "percent_bias          -2.08895   \n",
            "RSR                   0.23574    \n",
            "rmse                  0.13539    \n",
            "mse                   0.01833    \n",
            "nrmse                 0.04299    \n",
            "mae                   0.10982    \n",
            "\n",
            "\n",
            "\n",
            "r2                    0.99274    \n",
            "NSE                   0.91189    \n",
            "APB                   7.17277    \n",
            "percent_bias          -2.70865   \n",
            "RSR                   0.29684    \n",
            "rmse                  0.13368    \n",
            "mse                   0.01787    \n",
            "nrmse                 0.05741    \n",
            "mae                   0.10797    \n",
            "\n",
            "\n",
            "\n"
          ],
          "name": "stdout"
        }
      ]
    },
    {
      "cell_type": "markdown",
      "metadata": {
        "id": "9ADo-hmB_5aC",
        "colab_type": "text"
      },
      "source": [
        "### Evaluate on Training data"
      ]
    },
    {
      "cell_type": "code",
      "metadata": {
        "id": "86JY26UQlrzu",
        "colab_type": "code",
        "colab": {
          "base_uri": "https://localhost:8080/",
          "height": 72
        },
        "outputId": "1a040a57-9ca9-4312-e17d-dc8450686f4a"
      },
      "source": [
        "train_true, train_predictions = model.test_nn(train_args, 'training')"
      ],
      "execution_count": 71,
      "outputs": [
        {
          "output_type": "stream",
          "text": [
            "no of batches:  175\n",
            "4_scaler scaler name\n",
            "5_scaler scaler name\n"
          ],
          "name": "stdout"
        }
      ]
    },
    {
      "cell_type": "code",
      "metadata": {
        "id": "Vp4Sg3zFAm4f",
        "colab_type": "code",
        "colab": {
          "base_uri": "https://localhost:8080/",
          "height": 731
        },
        "outputId": "2aedab0e-2ebf-413b-bbda-bb6066480d1e"
      },
      "source": [
        "for i in range(out_features):\n",
        "    utils.plot_scatter(train_true[:,i], train_predictions[:,i])"
      ],
      "execution_count": 72,
      "outputs": [
        {
          "output_type": "display_data",
          "data": {
            "image/png": "[encoded data removed]",
            "text/plain": [
              "<Figure size 576x432 with 1 Axes>"
            ]
          },
          "metadata": {
            "tags": []
          }
        },
        {
          "output_type": "display_data",
          "data": {
            "image/png": "[encoded data removed]",
            "text/plain": [
              "<Figure size 576x432 with 1 Axes>"
            ]
          },
          "metadata": {
            "tags": []
          }
        }
      ]
    },
    {
      "cell_type": "code",
      "metadata": {
        "id": "NBIAtyVtAt1S",
        "colab_type": "code",
        "colab": {
          "base_uri": "https://localhost:8080/",
          "height": 460
        },
        "outputId": "8e999424-7422-413f-cd6e-f91174ce88c2"
      },
      "source": [
        "for i in range(out_features):\n",
        "    utils.print_errors(train_true[:,i], train_predictions[:,i])\n",
        "    print('\\n\\n')"
      ],
      "execution_count": 73,
      "outputs": [
        {
          "output_type": "stream",
          "text": [
            "r2                    0.99973    \n",
            "NSE                   0.94724    \n",
            "APB                   5.51671    \n",
            "percent_bias          -1.52179   \n",
            "RSR                   0.22969    \n",
            "rmse                  0.13576    \n",
            "mse                   0.01843    \n",
            "nrmse                 0.04536    \n",
            "mae                   0.10843    \n",
            "\n",
            "\n",
            "\n",
            "r2                    0.99273    \n",
            "NSE                   0.91451    \n",
            "APB                   7.29015    \n",
            "percent_bias          -2.16389   \n",
            "RSR                   0.29238    \n",
            "rmse                  0.13457    \n",
            "mse                   0.01811    \n",
            "nrmse                 0.05709    \n",
            "mae                   0.10777    \n",
            "\n",
            "\n",
            "\n"
          ],
          "name": "stdout"
        }
      ]
    }
  ]
}