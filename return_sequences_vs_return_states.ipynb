{
 "cells": [
  {
   "cell_type": "markdown",
   "metadata": {},
   "source": [
    "## Intro\n",
    "This notebook describes difference between `return_sequence` and `return_state` arguments in LSTM/RNN layers of tensorflow/keras."
   ]
  },
  {
   "cell_type": "code",
   "execution_count": 1,
   "metadata": {},
   "outputs": [],
   "source": [
    "import tensorflow as tf\n",
    "from tensorflow.keras.models import Model\n",
    "from tensorflow.keras.layers import Input\n",
    "from tensorflow.keras.layers import LSTM\n",
    "import numpy as np\n",
    "\n",
    "\n",
    "np.set_printoptions(suppress=True) # to suppress scientific notation while printing arrays\n",
    "\n",
    "def reset_graph(seed=2):\n",
    "    tf.reset_default_graph()\n",
    "    tf.set_random_seed(seed)\n",
    "    np.random.seed(seed)"
   ]
  },
  {
   "cell_type": "code",
   "execution_count": 2,
   "metadata": {},
   "outputs": [
    {
     "name": "stdout",
     "output_type": "stream",
     "text": [
      "input shape is (2, 10, 3)\n"
     ]
    }
   ],
   "source": [
    "seq_len = 10\n",
    "in_features = 3\n",
    "batch_size = 2\n",
    "units = 5\n",
    "\n",
    "# define input data\n",
    "data = np.random.normal(0,1, size=(batch_size, seq_len, in_features))\n",
    "print('input shape is', data.shape)\n"
   ]
  },
  {
   "cell_type": "code",
   "execution_count": 3,
   "metadata": {},
   "outputs": [
    {
     "name": "stderr",
     "output_type": "stream",
     "text": [
      "WARNING: Logging before flag parsing goes to stderr.\n",
      "W1217 16:35:20.460479 181768 deprecation.py:506] From C:\\Users\\USER\\Anaconda3\\envs\\tfgpu\\lib\\site-packages\\tensorflow\\python\\ops\\init_ops.py:1251: calling VarianceScaling.__init__ (from tensorflow.python.ops.init_ops) with dtype is deprecated and will be removed in a future version.\n",
      "Instructions for updating:\n",
      "Call initializer instance with the dtype argument instead of passing it to the constructor\n"
     ]
    },
    {
     "name": "stdout",
     "output_type": "stream",
     "text": [
      "output shape is  (2, 5)\n",
      "[[-0.11063188  0.05536821 -0.00112649 -0.04271765 -0.04566799]\n",
      " [-0.07557035  0.11102945 -0.25066054  0.05387768  0.0188199 ]]\n"
     ]
    }
   ],
   "source": [
    "reset_graph()\n",
    "\n",
    "# define model\n",
    "inputs1 = Input(shape=(seq_len, in_features))\n",
    "lstm1 = LSTM(units)(inputs1)\n",
    "model = Model(inputs=inputs1, outputs=lstm1)\n",
    "\n",
    "# check output\n",
    "output = model.predict(data)\n",
    "print('output shape is ', output.shape)\n",
    "print(output)"
   ]
  },
  {
   "cell_type": "markdown",
   "metadata": {},
   "source": [
    "### Return Sequence\n",
    "If we use `return_sequence=True`, we can get hidden state which is also output, at each time step instead of just one final output."
   ]
  },
  {
   "cell_type": "code",
   "execution_count": 4,
   "metadata": {},
   "outputs": [
    {
     "name": "stdout",
     "output_type": "stream",
     "text": [
      "input shape is (2, 10, 3)\n",
      "output shape is  (2, 10, 5)\n",
      "[[[-0.00959962  0.21499124 -0.17225736 -0.06007293 -0.01426327]\n",
      "  [-0.13070984  0.21733947 -0.29199782 -0.02914739 -0.05185204]\n",
      "  [ 0.00457804  0.12874249 -0.07751576 -0.10823897  0.12222017]\n",
      "  [-0.03010699  0.2299158  -0.25902417 -0.11228839  0.04989259]\n",
      "  [ 0.08941653  0.07683862 -0.04283267  0.01186768  0.15385148]\n",
      "  [-0.17279187  0.20893084 -0.19236568 -0.04028462 -0.06045159]\n",
      "  [-0.1421089   0.09406001 -0.05696344  0.06213297 -0.07928834]\n",
      "  [-0.14963478  0.10163516 -0.10343038  0.07638221 -0.07256965]\n",
      "  [-0.13566948  0.02508682  0.08233571  0.09342598 -0.12378266]\n",
      "  [-0.11063188  0.05536821 -0.00112649 -0.04271765 -0.04566799]]\n",
      "\n",
      " [[ 0.05736056 -0.074391    0.19495797  0.08077516  0.06829052]\n",
      "  [ 0.23908362 -0.10028643  0.1312296  -0.0465778   0.16892622]\n",
      "  [ 0.04285454 -0.08158276  0.2188183   0.01525448  0.029679  ]\n",
      "  [ 0.01975241 -0.00393771  0.12709902 -0.09848741 -0.05448593]\n",
      "  [ 0.02327636 -0.02502736  0.13571821  0.04188707 -0.00229754]\n",
      "  [ 0.02948222 -0.03899983  0.1300438   0.00584506 -0.00736265]\n",
      "  [-0.14627141  0.07657269 -0.00724297  0.01528465 -0.10244092]\n",
      "  [-0.12292557  0.10776759 -0.06867868 -0.06033747 -0.09682254]\n",
      "  [ 0.07036161  0.09392557 -0.11439735  0.01495324  0.12420032]\n",
      "  [-0.07557035  0.11102945 -0.25066054  0.05387768  0.0188199 ]]]\n"
     ]
    }
   ],
   "source": [
    "reset_graph()\n",
    "\n",
    "print('input shape is', data.shape)\n",
    "\n",
    "# define model\n",
    "inputs1 = Input(shape=(seq_len, in_features))\n",
    "lstm1 = LSTM(units, return_sequences=True)(inputs1)\n",
    "model = Model(inputs=inputs1, outputs=lstm1)\n",
    "\n",
    "# check output\n",
    "output = model.predict(data)\n",
    "print('output shape is ', output.shape)\n",
    "print(output)"
   ]
  },
  {
   "cell_type": "markdown",
   "metadata": {},
   "source": [
    "### Return States\n",
    "If we use `return_state=True`, it will give final hidden state/output plus the cell state as well"
   ]
  },
  {
   "cell_type": "code",
   "execution_count": 5,
   "metadata": {},
   "outputs": [
    {
     "name": "stdout",
     "output_type": "stream",
     "text": [
      "_h: shape (2, 5) values \n",
      " [[-0.11063188  0.05536821 -0.00112649 -0.04271765 -0.04566799]\n",
      " [-0.07557035  0.11102945 -0.25066054  0.05387768  0.0188199 ]]\n",
      "\n",
      "h: shape (2, 5) values \n",
      " [[-0.11063188  0.05536821 -0.00112649 -0.04271765 -0.04566799]\n",
      " [-0.07557035  0.11102945 -0.25066054  0.05387768  0.0188199 ]]\n",
      "\n",
      "c: shape (2, 5) values \n",
      " [[-0.18525022  0.09085277 -0.0023678  -0.09870709 -0.07825917]\n",
      " [-0.14414924  0.23718104 -0.4945711   0.10743085  0.04478739]]\n"
     ]
    }
   ],
   "source": [
    "reset_graph()\n",
    "\n",
    "# define model\n",
    "inputs1 = Input(shape=(seq_len, in_features))\n",
    "lstm1, state_h, state_c = LSTM(units, return_state=True)(inputs1)\n",
    "model = Model(inputs=inputs1, outputs=[lstm1, state_h, state_c])\n",
    "\n",
    "# check output\n",
    "_h, h, c = model.predict(data)\n",
    "print('_h: shape {} values \\n {}\\n'.format(_h.shape, _h))\n",
    "print('h: shape {} values \\n {}\\n'.format(h.shape, h))\n",
    "print('c: shape {} values \\n {}'.format(c.shape, c))"
   ]
  },
  {
   "cell_type": "markdown",
   "metadata": {},
   "source": [
    "## using both at same time\n",
    "We can use both `return_sequences` and `return_states` at same time as well."
   ]
  },
  {
   "cell_type": "code",
   "execution_count": 6,
   "metadata": {},
   "outputs": [
    {
     "name": "stdout",
     "output_type": "stream",
     "text": [
      "_h: shape (2, 10, 5) values \n",
      " [[[-0.00959962  0.21499124 -0.17225736 -0.06007293 -0.01426327]\n",
      "  [-0.13070984  0.21733947 -0.29199782 -0.02914739 -0.05185204]\n",
      "  [ 0.00457804  0.12874249 -0.07751576 -0.10823897  0.12222017]\n",
      "  [-0.03010699  0.2299158  -0.25902417 -0.11228839  0.04989259]\n",
      "  [ 0.08941653  0.07683862 -0.04283267  0.01186768  0.15385148]\n",
      "  [-0.17279187  0.20893084 -0.19236568 -0.04028462 -0.06045159]\n",
      "  [-0.1421089   0.09406001 -0.05696344  0.06213297 -0.07928834]\n",
      "  [-0.14963478  0.10163516 -0.10343038  0.07638221 -0.07256965]\n",
      "  [-0.13566948  0.02508682  0.08233571  0.09342598 -0.12378266]\n",
      "  [-0.11063188  0.05536821 -0.00112649 -0.04271765 -0.04566799]]\n",
      "\n",
      " [[ 0.05736056 -0.074391    0.19495797  0.08077516  0.06829052]\n",
      "  [ 0.23908362 -0.10028643  0.1312296  -0.0465778   0.16892622]\n",
      "  [ 0.04285454 -0.08158276  0.2188183   0.01525448  0.029679  ]\n",
      "  [ 0.01975241 -0.00393771  0.12709902 -0.09848741 -0.05448593]\n",
      "  [ 0.02327636 -0.02502736  0.13571821  0.04188707 -0.00229754]\n",
      "  [ 0.02948222 -0.03899983  0.1300438   0.00584506 -0.00736265]\n",
      "  [-0.14627141  0.07657269 -0.00724297  0.01528465 -0.10244092]\n",
      "  [-0.12292557  0.10776759 -0.06867868 -0.06033747 -0.09682254]\n",
      "  [ 0.07036161  0.09392557 -0.11439735  0.01495324  0.12420032]\n",
      "  [-0.07557035  0.11102945 -0.25066054  0.05387768  0.0188199 ]]]\n",
      "\n",
      "h: shape (2, 5) values \n",
      " [[-0.11063188  0.05536821 -0.00112649 -0.04271765 -0.04566799]\n",
      " [-0.07557035  0.11102945 -0.25066054  0.05387768  0.0188199 ]]\n",
      "\n",
      "c: shape (2, 5) values \n",
      " [[-0.18525022  0.09085277 -0.0023678  -0.09870709 -0.07825917]\n",
      " [-0.14414924  0.23718104 -0.4945711   0.10743085  0.04478739]]\n"
     ]
    }
   ],
   "source": [
    "reset_graph()\n",
    "\n",
    "# define model\n",
    "inputs1 = Input(shape=(seq_len, in_features))\n",
    "lstm1, state_h, state_c = LSTM(units, return_state=True, return_sequences=True)(inputs1)\n",
    "model = Model(inputs=inputs1, outputs=[lstm1, state_h, state_c])\n",
    "\n",
    "# check output\n",
    "_h, h, c = model.predict(data)\n",
    "print('_h: shape {} values \\n {}\\n'.format(_h.shape, _h))\n",
    "print('h: shape {} values \\n {}\\n'.format(h.shape, h))\n",
    "print('c: shape {} values \\n {}'.format(c.shape, c))"
   ]
  },
  {
   "cell_type": "markdown",
   "metadata": {},
   "source": [
    "## Credits\n",
    "This post is inspired from Jason Brownlee's [page](https://machinelearningmastery.com/return-sequences-and-return-states-for-lstms-in-keras/)"
   ]
  }
 ],
 "metadata": {
  "kernelspec": {
   "display_name": "Python 3",
   "language": "python",
   "name": "python3"
  },
  "language_info": {
   "codemirror_mode": {
    "name": "ipython",
    "version": 3
   },
   "file_extension": ".py",
   "mimetype": "text/x-python",
   "name": "python",
   "nbconvert_exporter": "python",
   "pygments_lexer": "ipython3",
   "version": "3.6.7"
  }
 },
 "nbformat": 4,
 "nbformat_minor": 2
}
