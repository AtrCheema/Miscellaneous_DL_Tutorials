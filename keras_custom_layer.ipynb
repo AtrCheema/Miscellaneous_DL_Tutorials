{
  "nbformat": 4,
  "nbformat_minor": 0,
  "metadata": {
    "colab": {
      "name": "keras_custom_layer",
      "provenance": [],
      "collapsed_sections": [],
      "authorship_tag": "ABX9TyOnE3sXhrj7WvJJ9jCNeK48",
      "include_colab_link": true
    },
    "kernelspec": {
      "name": "python3",
      "display_name": "Python 3"
    }
  },
  "cells": [
    {
      "cell_type": "markdown",
      "metadata": {
        "id": "view-in-github",
        "colab_type": "text"
      },
      "source": [
        "<a href=\"https://colab.research.google.com/github/AtrCheema/Miscellaneous_DL_Tutorials/blob/master/keras_custom_layer.ipynb\" target=\"_parent\"><img src=\"https://colab.research.google.com/assets/colab-badge.svg\" alt=\"Open In Colab\"/></a>"
      ]
    },
    {
      "cell_type": "code",
      "metadata": {
        "id": "nSofKBx8PJg6"
      },
      "source": [
        "This notebook shows different ways of writing custom layer using Keras API.\r\n",
        "\r\n"
      ],
      "execution_count": null,
      "outputs": []
    },
    {
      "cell_type": "code",
      "metadata": {
        "id": "kEXvwW_bGqJV"
      },
      "source": [
        "import tensorflow as tf\r\n",
        "import numpy as np\r\n",
        "from tensorflow.keras.layers import Dense, Input\r\n",
        "from tensorflow.keras.models import Model\r\n",
        "from tensorflow.python.util import nest\r\n",
        "from tensorflow.python.ops.numpy_ops import np_arrays\r\n",
        "\r\n",
        "def reset_seed(seed=313):\r\n",
        "    tf.keras.backend.clear_session()\r\n",
        "    tf.random.set_seed(seed)\r\n",
        "    np.random.seed(313)"
      ],
      "execution_count": 1,
      "outputs": []
    },
    {
      "cell_type": "code",
      "metadata": {
        "id": "AMzXGpXGvUIm"
      },
      "source": [
        "class Method1MLP(tf.keras.layers.Layer):\r\n",
        "\r\n",
        "    def __init__(self, in_units, out_units, **kwargs):\r\n",
        "        self.dense = Dense(in_units)\r\n",
        "        self.out = Dense(out_units)\r\n",
        "        super().__init__(**kwargs)\r\n",
        "    \r\n",
        "    def call(self, x):\r\n",
        "        temp = self.dense(x)\r\n",
        "        return self.out(temp)\r\n",
        "\r\n",
        "\r\n",
        "class Method2MLP(tf.keras.layers.Layer):\r\n",
        "\r\n",
        "    def __init__(self, in_units, out_units, **kwargs):\r\n",
        "        self.dense = Dense(in_units)\r\n",
        "        self.out = Dense(out_units)\r\n",
        "        super().__init__(**kwargs)\r\n",
        "\r\n",
        "    def __call__(self, x):\r\n",
        "\r\n",
        "        temp = self.dense(x)\r\n",
        "        return self.out(temp)\r\n",
        "\r\n",
        "\r\n",
        "class Method3MLP(tf.keras.layers.Layer):\r\n",
        "\r\n",
        "    def __init__(self, in_units, out_units, **kwargs): \r\n",
        "        self.in_units = in_units\r\n",
        "        self.out_units = out_units\r\n",
        "        super().__init__(**kwargs)\r\n",
        "\r\n",
        "    def __call__(self, x):\r\n",
        "\r\n",
        "        temp = Dense(self.in_units)(x)\r\n",
        "        return Dense(self.out_units)(temp)\r\n",
        "\r\n",
        "\r\n",
        "class Method4MLP(tf.keras.layers.Layer):\r\n",
        "\r\n",
        "    def __init__(self, in_units, out_units, **kwargs):\r\n",
        "        self.dense = Dense(in_units)\r\n",
        "        self.out = Dense(out_units)\r\n",
        "        super().__init__(**kwargs)\r\n",
        "\r\n",
        "    def __call__(self, x):\r\n",
        "        temp = self.dense(x)\r\n",
        "        return self.out(temp)\r\n",
        "\r\n",
        "class Method5MLP(tf.keras.layers.Layer):\r\n",
        "\r\n",
        "    def __init__(self, in_units, out_units, **kwargs):\r\n",
        "        self.in_units = in_units\r\n",
        "        self.out_units = out_units\r\n",
        "        super().__init__(**kwargs)\r\n",
        "    \r\n",
        "    def build(self,*args, **kwargs):\r\n",
        "        self.dense = Dense(self.in_units)\r\n",
        "        self.out = Dense(self.out_units)\r\n",
        "        super().build(*args, **kwargs)\r\n",
        "    \r\n",
        "    def call(self, x):\r\n",
        "        temp = self.dense(x)\r\n",
        "        return self.out(temp)\r\n",
        "\r\n",
        "\r\n",
        "class Method6MLP(tf.keras.layers.Layer):\r\n",
        "\r\n",
        "    def __init__(self, in_units, out_units, **kwargs):\r\n",
        "        self.in_units = in_units\r\n",
        "        self.out_units = out_units\r\n",
        "        super().__init__(**kwargs)\r\n",
        "    \r\n",
        "    def build(self,*args, **kwargs):\r\n",
        "        self.dense = Dense(self.in_units)\r\n",
        "        self.out = Dense(self.out_units)\r\n",
        "        super().build(*args, **kwargs)\r\n",
        "    \r\n",
        "    def __call__(self, x):\r\n",
        "        print('it is built: ', self.built)\r\n",
        "\r\n",
        "        if not self.built:\r\n",
        "            self._maybe_build(x)\r\n",
        "\r\n",
        "        print('it is built: ', self.built)\r\n",
        "\r\n",
        "        temp = self.dense(x)\r\n",
        "        return self.out(temp)\r\n"
      ],
      "execution_count": 2,
      "outputs": []
    },
    {
      "cell_type": "code",
      "metadata": {
        "id": "HZ7kliGUzQTz"
      },
      "source": [
        "x = np.random.random((100, 10,5))\r\n",
        "y = np.random.random((100, 1))"
      ],
      "execution_count": 3,
      "outputs": []
    },
    {
      "cell_type": "code",
      "metadata": {
        "colab": {
          "base_uri": "https://localhost:8080/"
        },
        "id": "CgZeP9TEwe6l",
        "outputId": "7ac3211c-48ed-48b5-9bdd-dfb087bba561"
      },
      "source": [
        "reset_seed()\r\n",
        "\r\n",
        "inp = Input(shape=(10,5))\r\n",
        "temp = Dense(5)(inp)\r\n",
        "out = Dense(1)(temp)\r\n",
        "model =  Model(inputs=inp, outputs=out)\r\n",
        "model.compile(optimizer=tf.keras.optimizers.Adam(), loss='mse')\r\n",
        "print(model.summary())\r\n",
        "\r\n",
        "model.fit(x=x,y=y, epochs=5)"
      ],
      "execution_count": 4,
      "outputs": [
        {
          "output_type": "stream",
          "text": [
            "Model: \"model\"\n",
            "_________________________________________________________________\n",
            "Layer (type)                 Output Shape              Param #   \n",
            "=================================================================\n",
            "input_1 (InputLayer)         [(None, 10, 5)]           0         \n",
            "_________________________________________________________________\n",
            "dense (Dense)                (None, 10, 5)             30        \n",
            "_________________________________________________________________\n",
            "dense_1 (Dense)              (None, 10, 1)             6         \n",
            "=================================================================\n",
            "Total params: 36\n",
            "Trainable params: 36\n",
            "Non-trainable params: 0\n",
            "_________________________________________________________________\n",
            "None\n",
            "Epoch 1/5\n",
            "4/4 [==============================] - 1s 3ms/step - loss: 0.9747\n",
            "Epoch 2/5\n",
            "4/4 [==============================] - 0s 3ms/step - loss: 0.8676\n",
            "Epoch 3/5\n",
            "4/4 [==============================] - 0s 3ms/step - loss: 0.8431\n",
            "Epoch 4/5\n",
            "4/4 [==============================] - 0s 2ms/step - loss: 0.7621\n",
            "Epoch 5/5\n",
            "4/4 [==============================] - 0s 2ms/step - loss: 0.6920\n"
          ],
          "name": "stdout"
        },
        {
          "output_type": "execute_result",
          "data": {
            "text/plain": [
              "<tensorflow.python.keras.callbacks.History at 0x7f43edceeb38>"
            ]
          },
          "metadata": {
            "tags": []
          },
          "execution_count": 4
        }
      ]
    },
    {
      "cell_type": "code",
      "metadata": {
        "colab": {
          "base_uri": "https://localhost:8080/"
        },
        "id": "jsBMtbn-w5gs",
        "outputId": "9c06148c-f449-4955-a8dc-00428ef1b755"
      },
      "source": [
        "reset_seed()\r\n",
        "\r\n",
        "inp = Input(shape=(10,5))\r\n",
        "out = Method1MLP(5,1)(inp)\r\n",
        "model =  Model(inputs=inp, outputs=out)\r\n",
        "model.compile(optimizer=tf.keras.optimizers.Adam(), loss='mse')\r\n",
        "print(model.summary())\r\n",
        "\r\n",
        "model.fit(x=x,y=y, epochs=5)"
      ],
      "execution_count": 5,
      "outputs": [
        {
          "output_type": "stream",
          "text": [
            "Model: \"model\"\n",
            "_________________________________________________________________\n",
            "Layer (type)                 Output Shape              Param #   \n",
            "=================================================================\n",
            "input_1 (InputLayer)         [(None, 10, 5)]           0         \n",
            "_________________________________________________________________\n",
            "method1mlp (Method1MLP)      (None, 10, 1)             36        \n",
            "=================================================================\n",
            "Total params: 36\n",
            "Trainable params: 36\n",
            "Non-trainable params: 0\n",
            "_________________________________________________________________\n",
            "None\n",
            "Epoch 1/5\n",
            "4/4 [==============================] - 0s 3ms/step - loss: 0.9747\n",
            "Epoch 2/5\n",
            "4/4 [==============================] - 0s 2ms/step - loss: 0.8676\n",
            "Epoch 3/5\n",
            "4/4 [==============================] - 0s 2ms/step - loss: 0.8431\n",
            "Epoch 4/5\n",
            "4/4 [==============================] - 0s 4ms/step - loss: 0.7621\n",
            "Epoch 5/5\n",
            "4/4 [==============================] - 0s 2ms/step - loss: 0.6920\n"
          ],
          "name": "stdout"
        },
        {
          "output_type": "execute_result",
          "data": {
            "text/plain": [
              "<tensorflow.python.keras.callbacks.History at 0x7f43e6e6c630>"
            ]
          },
          "metadata": {
            "tags": []
          },
          "execution_count": 5
        }
      ]
    },
    {
      "cell_type": "code",
      "metadata": {
        "colab": {
          "base_uri": "https://localhost:8080/"
        },
        "id": "3gLVv1qhxJ6L",
        "outputId": "7debeb8d-29fc-4aac-c804-3441300de64c"
      },
      "source": [
        "reset_seed()\r\n",
        "\r\n",
        "inp = Input(shape=(10,5))\r\n",
        "out = Method2MLP(5,1)(inp)\r\n",
        "model =  Model(inputs=inp, outputs=out)\r\n",
        "model.compile(optimizer=tf.keras.optimizers.Adam(), loss='mse')\r\n",
        "print(model.summary())\r\n",
        "\r\n",
        "model.fit(x=x,y=y, epochs=5)"
      ],
      "execution_count": 6,
      "outputs": [
        {
          "output_type": "stream",
          "text": [
            "Model: \"model\"\n",
            "_________________________________________________________________\n",
            "Layer (type)                 Output Shape              Param #   \n",
            "=================================================================\n",
            "input_1 (InputLayer)         [(None, 10, 5)]           0         \n",
            "_________________________________________________________________\n",
            "dense (Dense)                (None, 10, 5)             30        \n",
            "_________________________________________________________________\n",
            "dense_1 (Dense)              (None, 10, 1)             6         \n",
            "=================================================================\n",
            "Total params: 36\n",
            "Trainable params: 36\n",
            "Non-trainable params: 0\n",
            "_________________________________________________________________\n",
            "None\n",
            "Epoch 1/5\n",
            "4/4 [==============================] - 0s 3ms/step - loss: 0.9747\n",
            "Epoch 2/5\n",
            "4/4 [==============================] - 0s 3ms/step - loss: 0.8676\n",
            "Epoch 3/5\n",
            "4/4 [==============================] - 0s 2ms/step - loss: 0.8431\n",
            "Epoch 4/5\n",
            "4/4 [==============================] - 0s 3ms/step - loss: 0.7621\n",
            "Epoch 5/5\n",
            "4/4 [==============================] - 0s 2ms/step - loss: 0.6920\n"
          ],
          "name": "stdout"
        },
        {
          "output_type": "execute_result",
          "data": {
            "text/plain": [
              "<tensorflow.python.keras.callbacks.History at 0x7f43e6d791d0>"
            ]
          },
          "metadata": {
            "tags": []
          },
          "execution_count": 6
        }
      ]
    },
    {
      "cell_type": "code",
      "metadata": {
        "colab": {
          "base_uri": "https://localhost:8080/"
        },
        "id": "Byr6wX5pxUzb",
        "outputId": "6e2e7abf-fad2-4615-d5b5-364e5c075e0e"
      },
      "source": [
        "reset_seed()\r\n",
        "\r\n",
        "inp = Input(shape=(10,5))\r\n",
        "out = Method3MLP(5,1)(inp)\r\n",
        "model =  Model(inputs=inp, outputs=out)\r\n",
        "model.compile(optimizer=tf.keras.optimizers.Adam(), loss='mse')\r\n",
        "print(model.summary())\r\n",
        "\r\n",
        "model.fit(x=x,y=y, epochs=5)"
      ],
      "execution_count": 7,
      "outputs": [
        {
          "output_type": "stream",
          "text": [
            "Model: \"model\"\n",
            "_________________________________________________________________\n",
            "Layer (type)                 Output Shape              Param #   \n",
            "=================================================================\n",
            "input_1 (InputLayer)         [(None, 10, 5)]           0         \n",
            "_________________________________________________________________\n",
            "dense (Dense)                (None, 10, 5)             30        \n",
            "_________________________________________________________________\n",
            "dense_1 (Dense)              (None, 10, 1)             6         \n",
            "=================================================================\n",
            "Total params: 36\n",
            "Trainable params: 36\n",
            "Non-trainable params: 0\n",
            "_________________________________________________________________\n",
            "None\n",
            "Epoch 1/5\n",
            "4/4 [==============================] - 0s 3ms/step - loss: 0.9747\n",
            "Epoch 2/5\n",
            "4/4 [==============================] - 0s 2ms/step - loss: 0.8676\n",
            "Epoch 3/5\n",
            "4/4 [==============================] - 0s 2ms/step - loss: 0.8431\n",
            "Epoch 4/5\n",
            "4/4 [==============================] - 0s 2ms/step - loss: 0.7621\n",
            "Epoch 5/5\n",
            "4/4 [==============================] - 0s 2ms/step - loss: 0.6920\n"
          ],
          "name": "stdout"
        },
        {
          "output_type": "execute_result",
          "data": {
            "text/plain": [
              "<tensorflow.python.keras.callbacks.History at 0x7f43e6c071d0>"
            ]
          },
          "metadata": {
            "tags": []
          },
          "execution_count": 7
        }
      ]
    },
    {
      "cell_type": "code",
      "metadata": {
        "colab": {
          "base_uri": "https://localhost:8080/"
        },
        "id": "UG_uUQRjxcwz",
        "outputId": "f04252d5-5bff-4e90-b756-cdba15eddcc8"
      },
      "source": [
        "reset_seed()\r\n",
        "\r\n",
        "inp = Input(shape=(10,5))\r\n",
        "out = Method4MLP(5,1)(inp)\r\n",
        "model =  Model(inputs=inp, outputs=out)\r\n",
        "model.compile(optimizer=tf.keras.optimizers.Adam(), loss='mse')\r\n",
        "print(model.summary())\r\n",
        "\r\n",
        "model.fit(x=x,y=y, epochs=5)"
      ],
      "execution_count": 8,
      "outputs": [
        {
          "output_type": "stream",
          "text": [
            "Model: \"model\"\n",
            "_________________________________________________________________\n",
            "Layer (type)                 Output Shape              Param #   \n",
            "=================================================================\n",
            "input_1 (InputLayer)         [(None, 10, 5)]           0         \n",
            "_________________________________________________________________\n",
            "dense (Dense)                (None, 10, 5)             30        \n",
            "_________________________________________________________________\n",
            "dense_1 (Dense)              (None, 10, 1)             6         \n",
            "=================================================================\n",
            "Total params: 36\n",
            "Trainable params: 36\n",
            "Non-trainable params: 0\n",
            "_________________________________________________________________\n",
            "None\n",
            "Epoch 1/5\n",
            "4/4 [==============================] - 0s 3ms/step - loss: 0.9747\n",
            "Epoch 2/5\n",
            "4/4 [==============================] - 0s 2ms/step - loss: 0.8676\n",
            "Epoch 3/5\n",
            "4/4 [==============================] - 0s 2ms/step - loss: 0.8431\n",
            "Epoch 4/5\n",
            "4/4 [==============================] - 0s 2ms/step - loss: 0.7621\n",
            "Epoch 5/5\n",
            "4/4 [==============================] - 0s 2ms/step - loss: 0.6920\n"
          ],
          "name": "stdout"
        },
        {
          "output_type": "execute_result",
          "data": {
            "text/plain": [
              "<tensorflow.python.keras.callbacks.History at 0x7f43e6b101d0>"
            ]
          },
          "metadata": {
            "tags": []
          },
          "execution_count": 8
        }
      ]
    },
    {
      "cell_type": "code",
      "metadata": {
        "id": "_gz7JMjTDVp3",
        "colab": {
          "base_uri": "https://localhost:8080/"
        },
        "outputId": "5421fd0f-55a6-45dc-bcec-5674e15d4e97"
      },
      "source": [
        "reset_seed()\r\n",
        "\r\n",
        "inp = Input(shape=(10,5))\r\n",
        "out = Method5MLP(5,1)(inp)\r\n",
        "model =  Model(inputs=inp, outputs=out)\r\n",
        "model.compile(optimizer=tf.keras.optimizers.Adam(), loss='mse')\r\n",
        "print(model.summary())\r\n",
        "\r\n",
        "model.fit(x=x,y=y, epochs=5)"
      ],
      "execution_count": 9,
      "outputs": [
        {
          "output_type": "stream",
          "text": [
            "Model: \"model\"\n",
            "_________________________________________________________________\n",
            "Layer (type)                 Output Shape              Param #   \n",
            "=================================================================\n",
            "input_1 (InputLayer)         [(None, 10, 5)]           0         \n",
            "_________________________________________________________________\n",
            "method5mlp (Method5MLP)      (None, 10, 1)             36        \n",
            "=================================================================\n",
            "Total params: 36\n",
            "Trainable params: 36\n",
            "Non-trainable params: 0\n",
            "_________________________________________________________________\n",
            "None\n",
            "Epoch 1/5\n",
            "4/4 [==============================] - 0s 3ms/step - loss: 0.9747\n",
            "Epoch 2/5\n",
            "4/4 [==============================] - 0s 3ms/step - loss: 0.8676\n",
            "Epoch 3/5\n",
            "4/4 [==============================] - 0s 2ms/step - loss: 0.8431\n",
            "Epoch 4/5\n",
            "4/4 [==============================] - 0s 2ms/step - loss: 0.7621\n",
            "Epoch 5/5\n",
            "4/4 [==============================] - 0s 2ms/step - loss: 0.6920\n"
          ],
          "name": "stdout"
        },
        {
          "output_type": "execute_result",
          "data": {
            "text/plain": [
              "<tensorflow.python.keras.callbacks.History at 0x7f43e6a1b7b8>"
            ]
          },
          "metadata": {
            "tags": []
          },
          "execution_count": 9
        }
      ]
    },
    {
      "cell_type": "code",
      "metadata": {
        "colab": {
          "base_uri": "https://localhost:8080/"
        },
        "id": "JIYLos8XDKdP",
        "outputId": "0e0ac90b-25e1-4660-ea9a-b9f15f702b7f"
      },
      "source": [
        "reset_seed()\r\n",
        "\r\n",
        "inp = Input(shape=(10,5))\r\n",
        "out = Method6MLP(5,1)(inp)\r\n",
        "model =  Model(inputs=inp, outputs=out)\r\n",
        "model.compile(optimizer=tf.keras.optimizers.Adam(), loss='mse')\r\n",
        "print(model.summary())\r\n",
        "\r\n",
        "h = model.fit(x=x,y=y, epochs=5)"
      ],
      "execution_count": 10,
      "outputs": [
        {
          "output_type": "stream",
          "text": [
            "it is built:  False\n",
            "it is built:  True\n",
            "Model: \"model\"\n",
            "_________________________________________________________________\n",
            "Layer (type)                 Output Shape              Param #   \n",
            "=================================================================\n",
            "input_1 (InputLayer)         [(None, 10, 5)]           0         \n",
            "_________________________________________________________________\n",
            "dense (Dense)                (None, 10, 5)             30        \n",
            "_________________________________________________________________\n",
            "dense_1 (Dense)              (None, 10, 1)             6         \n",
            "=================================================================\n",
            "Total params: 36\n",
            "Trainable params: 36\n",
            "Non-trainable params: 0\n",
            "_________________________________________________________________\n",
            "None\n",
            "Epoch 1/5\n",
            "4/4 [==============================] - 1s 3ms/step - loss: 0.9747\n",
            "Epoch 2/5\n",
            "4/4 [==============================] - 0s 3ms/step - loss: 0.8676\n",
            "Epoch 3/5\n",
            "4/4 [==============================] - 0s 2ms/step - loss: 0.8431\n",
            "Epoch 4/5\n",
            "4/4 [==============================] - 0s 3ms/step - loss: 0.7621\n",
            "Epoch 5/5\n",
            "4/4 [==============================] - 0s 2ms/step - loss: 0.6920\n"
          ],
          "name": "stdout"
        }
      ]
    },
    {
      "cell_type": "code",
      "metadata": {
        "id": "twRN2NWIIDO6"
      },
      "source": [
        ""
      ],
      "execution_count": 10,
      "outputs": []
    }
  ]
}